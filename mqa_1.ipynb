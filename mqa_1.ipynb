{
  "nbformat": 4,
  "nbformat_minor": 0,
  "metadata": {
    "colab": {
      "provenance": [],
      "collapsed_sections": [
        "MTrrgTO6SP5l",
        "DfWK_wpL93gu",
        "ebnx3vUR97YU",
        "yMs_hr88HCSX",
        "NRz3VRBqHGW-"
      ]
    },
    "kernelspec": {
      "name": "python3",
      "display_name": "Python 3"
    },
    "language_info": {
      "name": "python"
    }
  },
  "cells": [
    {
      "cell_type": "markdown",
      "source": [
        "## INTRO\n",
        "\n",
        "nro id : se não tiver length 16 adicionar 0 na frente\n",
        "\n",
        "instituição\n",
        "- hospital : não é de ensino, tem q marcar q não é de academia\n",
        "- mesma instituição, registros e tempos diferentes  =>  tem q agrupar\n",
        "similaridade de string -> função cosseno de PLN (ngramas)\n",
        "\n",
        "\n",
        "\n",
        "1) pegar o nome de todas as instituições do brasil (usar a lista do MEC)\n",
        "\n",
        "\n",
        "- fazer a tabela de frequência /\n",
        "eliminar oq tem pouca frequência\n",
        "- se for secretaria municipal algo assim e aparecer poucas vezes => só rotular como servidor público\n",
        "- se estiver so EACH (sem ter USP no nome), categorizar como 'outros'\n",
        "- lista de universidades\n",
        "    - tabela do ROR\n",
        "    - tabela do MEC"
      ],
      "metadata": {
        "id": "MTrrgTO6SP5l"
      }
    },
    {
      "cell_type": "code",
      "execution_count": 93,
      "metadata": {
        "id": "00SstqcJMsXL",
        "colab": {
          "base_uri": "https://localhost:8080/"
        },
        "outputId": "4e5eb13c-6976-4135-bd2d-430183d0d032"
      },
      "outputs": [
        {
          "output_type": "stream",
          "name": "stdout",
          "text": [
            "Drive already mounted at /content/gdrive; to attempt to forcibly remount, call drive.mount(\"/content/gdrive\", force_remount=True).\n"
          ]
        }
      ],
      "source": [
        "from google.colab import drive\n",
        "import os\n",
        "\n",
        "import pandas as pd\n",
        "import numpy as np\n",
        "\n",
        "drive.mount('/content/gdrive')\n",
        "os.chdir('/content/gdrive/My Drive/USP/2024_2º/MQA/')\n",
        "\n",
        "pd.set_option('display.max_rows', 6)\n",
        "pd.set_option('display.max_columns', None)"
      ]
    },
    {
      "cell_type": "markdown",
      "source": [
        "## READ_CSV"
      ],
      "metadata": {
        "id": "DfWK_wpL93gu"
      }
    },
    {
      "cell_type": "code",
      "source": [
        "df = pd.read_csv('atuacoes_2.csv', encoding='UTF-8', nrows=100) #, dtype=str, nrows=1000)\n",
        "\n",
        "df['ANO-FIM'] = df['ANO-FIM'].fillna(2024)\n",
        "df['FLAG-DEDICACAO-EXCLUSIVA'] = df['FLAG-DEDICACAO-EXCLUSIVA'].replace('NAO', False).replace('SIM', True)\n",
        "\n",
        "df = df.astype({\n",
        "    'NRO-ID-CNPQ': int,\n",
        "    'CODIGO-INSTITUICAO': str,\n",
        "    'NOME-INSTITUICAO': str,\n",
        "    'ANO-INICIO': int,\n",
        "    'ANO-FIM': int,\n",
        "    'ENQUADRAMENTO-FUNCIONAL': str,\n",
        "    'TIPO-DE-VINCULO': str,\n",
        "    'OUTRAS-INFORMACOES': str,\n",
        "    'CARGA-HORARIA-SEMANAL': float,\n",
        "    'FLAG-DEDICACAO-EXCLUSIVA': bool\n",
        "})\n",
        "\n",
        "df = df.fillna(' ')\n",
        "df2 = df.copy()\n",
        "\n",
        "#df"
      ],
      "metadata": {
        "id": "CFoGSIJUNa0V",
        "collapsed": true
      },
      "execution_count": 415,
      "outputs": []
    },
    {
      "cell_type": "code",
      "source": [
        "df2 = df.copy(deep=True)\n",
        "df2.isna().sum()"
      ],
      "metadata": {
        "collapsed": true,
        "id": "uyMYIGTi5Qh2"
      },
      "execution_count": null,
      "outputs": []
    },
    {
      "cell_type": "code",
      "source": [
        "# LISTA DE UNIVERSIDADES NACIONAIS\n",
        "# https://dadosabertos.mec.gov.br/indicadores-sobre-ensino-superior/item/181-instituicoes-de-educacao-superior-do-brasil\n",
        "# https://dadosabertos.mec.gov.br/images/conteudo/Ind-ensino-superior/2022/PDA_Lista_Instituicoes_Ensino_Superior_do_Brasil_EMEC.csv\n",
        "\n",
        "df_uni = pd.read_csv('sup.csv', encoding='UTF-8')\n",
        "df_uni_filtered = df_uni[['NOME_DA_IES', 'SIGLA']]\n",
        "df_uni_filtered = df_uni_filtered.fillna('')\n",
        "df_uni_filtered = df_uni_filtered.sort_values(['NOME_DA_IES'], ascending=False)\n",
        "df_uni_filtered"
      ],
      "metadata": {
        "collapsed": true,
        "id": "9DBxFuCNCvXW"
      },
      "execution_count": null,
      "outputs": []
    },
    {
      "cell_type": "markdown",
      "source": [
        "## DATA PREPROCESSING"
      ],
      "metadata": {
        "id": "ebnx3vUR97YU"
      }
    },
    {
      "cell_type": "code",
      "source": [
        "def clean_names(df, column_name):\n",
        "\n",
        "    # Remove NaN\n",
        "    #df.dropna(subset=[column_name])\n",
        "\n",
        "    # Remove '&'\n",
        "    df[column_name] = df[column_name].replace('&AMP;', ' ', regex=True)\n",
        "\n",
        "    # Remove any non-alphanumeric characters except whitespace\n",
        "    df[column_name] = df[column_name].str.replace('[^\\w\\s]', ' ', regex=True)\n",
        "\n",
        "    # Normalize string\n",
        "    df[column_name] = df[column_name].str.normalize('NFKD').str.encode('ascii', errors='ignore').str.decode('utf-8')\n",
        "\n",
        "    # Remove stopwords\n",
        "    stop = ['DO', 'DA', 'DE', 'E']\n",
        "    df[column_name] = df[column_name].apply(lambda x: ' '.join([word for word in x.split() if word not in (stop)]))\n",
        "\n",
        "    # strip whitespace\n",
        "    df[column_name] = df[column_name].apply(lambda x: x.strip())\n",
        "\n",
        "    return df"
      ],
      "metadata": {
        "id": "m_7f_j8ItqUW"
      },
      "execution_count": 451,
      "outputs": []
    },
    {
      "cell_type": "code",
      "source": [
        "# List of lattes CV\n",
        "\n",
        "# Clean NOME-INSTITUICAO\n",
        "df2 = df2.apply(lambda x: x.astype(str).str.upper())\n",
        "df2 = clean_names(df2, 'NOME-INSTITUICAO')\n",
        "\n",
        "# Drop rows with frequency less than 50\n",
        "#df2 = df2[df2.groupby('NOME-INSTITUICAO')['NOME-INSTITUICAO'].transform('count').ge(50)]\n",
        "\n",
        "# Split df: education & others\n",
        "df2_edu = df2.loc[df2['ENQUADRAMENTO-FUNCIONAL'].isin(['LIVRE', 'COLABORADOR', 'PROFESSOR_VISITANTE'])].copy(deep=True)\n",
        "df2_outros = df2.loc[df2['ENQUADRAMENTO-FUNCIONAL'].isin(['SERVIDOR_PUBLICO', 'CELETISTA', 'NAN', 'OUTRO'])].copy(deep=True)\n",
        "\n",
        "df2_edu"
      ],
      "metadata": {
        "collapsed": true,
        "id": "9aEDyAjASwo1"
      },
      "execution_count": null,
      "outputs": []
    },
    {
      "cell_type": "code",
      "source": [
        "print(df2_edu['NOME-INSTITUICAO'].isna().sum())\n",
        "print(df2_edu['NOME-INSTITUICAO'].value_counts())"
      ],
      "metadata": {
        "collapsed": true,
        "id": "W6fxMsyE3ZHL"
      },
      "execution_count": null,
      "outputs": []
    },
    {
      "cell_type": "code",
      "source": [
        "# List of Universities\n",
        "\n",
        "df_uni_filtered = df_uni_filtered.apply(lambda x: x.astype(str).str.upper())\n",
        "df_uni_filtered = clean_names(df_uni_filtered, 'NOME_DA_IES')\n",
        "\n",
        "# merge NOME and SIGLA column\n",
        "df_uni_filtered['NOME_E_SIGLA'] = df_uni_filtered['SIGLA'] + ' ' + df_uni_filtered['NOME_DA_IES']\n",
        "df_uni_filtered"
      ],
      "metadata": {
        "collapsed": true,
        "id": "kBPNTDKHuyrt"
      },
      "execution_count": null,
      "outputs": []
    },
    {
      "cell_type": "markdown",
      "source": [
        "## NLP\n"
      ],
      "metadata": {
        "id": "l4oFZp0WWw6O"
      }
    },
    {
      "cell_type": "markdown",
      "source": [
        "### Cosine"
      ],
      "metadata": {
        "id": "ZpUuXCDrW3II"
      }
    },
    {
      "cell_type": "code",
      "source": [
        "from sklearn.feature_extraction.text import TfidfVectorizer\n",
        "from sklearn.metrics.pairwise import cosine_similarity\n",
        "\n",
        "threshold = 0.8\n",
        "\n",
        "# Vetorização TF-IDF\n",
        "vectorizer = TfidfVectorizer().fit(df_uni_filtered['NOME_DA_IES'])\n",
        "tfidf_matrix_universidades = vectorizer.transform(df_uni_filtered['NOME_DA_IES'])\n",
        "\n",
        "# Nova coluna\n",
        "df2_edu['nome_corrigido'] = ''\n",
        "\n",
        "for index, row in df2_edu.iterrows():\n",
        "\n",
        "    nome_instituicao = row['NOME-INSTITUICAO']\n",
        "\n",
        "    vector_comparacao = vectorizer.transform([nome_instituicao])\n",
        "\n",
        "    similaridade = cosine_similarity(vector_comparacao, tfidf_matrix_universidades)\n",
        "\n",
        "    max_value = np.max(similaridade)  # Valor máximo de similaridade\n",
        "    max_index = np.argmax(similaridade)  # Índice do valor máximo\n",
        "\n",
        "    nome_corrigido = df_uni_filtered.iloc[max_index]['NOME_DA_IES']\n",
        "\n",
        "    if (max_value >= threshold):\n",
        "        df2_edu.at[index, 'nome_corrigido'] = nome_corrigido\n",
        "    else:\n",
        "        df2_edu.at[index, 'nome_corrigido'] = nome_instituicao\n",
        "\n",
        "    #print(max_value, \": \", nome_corrigido, \", \", nome_instituicao)"
      ],
      "metadata": {
        "collapsed": true,
        "id": "m2qr0ICWSl55"
      },
      "execution_count": 411,
      "outputs": []
    },
    {
      "cell_type": "code",
      "source": [
        "# oq foi alterado\n",
        "pd.set_option('display.max_rows', 10)\n",
        "print(df2_edu[['NOME-INSTITUICAO', 'nome_corrigido']].loc[df2_edu['NOME-INSTITUICAO'] != df2_edu['nome_corrigido']])\n",
        "pd.set_option('display.max_rows', 6)"
      ],
      "metadata": {
        "collapsed": true,
        "id": "WCzEPI5aOpco"
      },
      "execution_count": null,
      "outputs": []
    },
    {
      "cell_type": "code",
      "source": [
        "# SIMILARIDADE POR NOME E SIGLA\n",
        "# EM QUANTIDADE MAIOR DE AMOSTRA, NAO FUNCIONA MUITO BEM\n",
        "\n",
        "from sklearn.feature_extraction.text import TfidfVectorizer\n",
        "from sklearn.metrics.pairwise import cosine_similarity\n",
        "\n",
        "threshold = 0.8\n",
        "\n",
        "# Vetorização TF-IDF\n",
        "vectorizer = TfidfVectorizer().fit(df_uni_filtered['NOME_E_SIGLA'])\n",
        "tfidf_matrix_universidades = vectorizer.transform(df_uni_filtered['NOME_E_SIGLA'])\n",
        "\n",
        "# Nova coluna\n",
        "df2_edu['nome_corrigido'] = ''\n",
        "\n",
        "for index, row in df2_edu.iterrows():\n",
        "\n",
        "    nome_instituicao = row['NOME-INSTITUICAO']\n",
        "\n",
        "    vector_comparacao = vectorizer.transform([nome_instituicao])\n",
        "\n",
        "    similaridade = cosine_similarity(vector_comparacao, tfidf_matrix_universidades)\n",
        "\n",
        "    max_value = np.max(similaridade)  # Valor máximo de similaridade\n",
        "    max_index = np.argmax(similaridade)  # Índice do valor máximo\n",
        "\n",
        "    nome_corrigido = df_uni_filtered.iloc[max_index]['NOME_DA_IES']\n",
        "\n",
        "    if (max_value >= threshold):\n",
        "        df2_edu.at[index, 'nome_corrigido'] = nome_corrigido\n",
        "    else:\n",
        "        df2_edu.at[index, 'nome_corrigido'] = nome_instituicao\n",
        "\n",
        "    #print(max_value, \": \", nome_corrigido, \", \", nome_instituicao)"
      ],
      "metadata": {
        "collapsed": true,
        "id": "TfiLw6NBLyZw"
      },
      "execution_count": 413,
      "outputs": []
    },
    {
      "cell_type": "markdown",
      "source": [
        "### N-gram\n"
      ],
      "metadata": {
        "id": "sAfGA8JlW5iB"
      }
    },
    {
      "cell_type": "code",
      "source": [
        "from sklearn.feature_extraction.text import TfidfVectorizer\n",
        "from sklearn.metrics.pairwise import cosine_similarity\n",
        "\n",
        "threshold = 0.6\n",
        "\n",
        "vectorizer = TfidfVectorizer(ngram_range=(2, 3)).fit(df_uni_filtered['NOME_DA_IES'])\n",
        "tfidf_matrix_universidades = vectorizer.transform(df_uni_filtered['NOME_DA_IES'])\n",
        "\n",
        "# Nova coluna\n",
        "df2_edu['nome_corrigido_ngram'] = ''\n",
        "\n",
        "for index, row in df2_edu.iterrows():\n",
        "    nome_instituicao = row['NOME-INSTITUICAO']\n",
        "\n",
        "    vector_comparacao = vectorizer.transform([nome_instituicao])\n",
        "\n",
        "    similaridade = cosine_similarity(vector_comparacao, tfidf_matrix_universidades)\n",
        "\n",
        "    max_value = np.max(similaridade)  # Valor máximo de similaridade\n",
        "    max_index = np.argmax(similaridade)  # Índice do valor máximo\n",
        "\n",
        "    nome_corrigido = df_uni_filtered.iloc[max_index]['NOME_DA_IES']\n",
        "\n",
        "    if max_value >= threshold:\n",
        "        df2_edu.at[index, 'nome_corrigido_ngram'] = nome_corrigido\n",
        "    else:\n",
        "        df2_edu.at[index, 'nome_corrigido_ngram'] = nome_instituicao\n",
        "\n",
        "    #print(max_value, \": \", nome_corrigido, \", \", nome_instituicao)\n"
      ],
      "metadata": {
        "collapsed": true,
        "id": "C-_PGB8kWrG2"
      },
      "execution_count": 437,
      "outputs": []
    },
    {
      "cell_type": "code",
      "source": [
        "pd.set_option('display.max_rows', 100)\n",
        "print(df2_edu[['NOME-INSTITUICAO', 'nome_corrigido_ngram']].loc[df2_edu['NOME-INSTITUICAO'] != df2_edu['nome_corrigido_ngram']])"
      ],
      "metadata": {
        "collapsed": true,
        "id": "WiIvrUHJX3T0",
        "colab": {
          "base_uri": "https://localhost:8080/"
        },
        "outputId": "3a3a441b-5c0e-41f4-eac4-f3cf07f68b3a"
      },
      "execution_count": 438,
      "outputs": [
        {
          "output_type": "stream",
          "name": "stdout",
          "text": [
            "                                     NOME-INSTITUICAO  \\\n",
            "11              UNIAO ESCOLAS SUPERIORES RONDONOPOLIS   \n",
            "12                        GOVERNO ESTADO MINAS GERAIS   \n",
            "33        CONSELHO REGIONAL FARMACIA ESTADO SAO PAULO   \n",
            "38  UNIVERSIDADE FEDERAL PIAUI CAMPUS MINISTRO REI...   \n",
            "39  UNIVERSIDADE FEDERAL PIAUI CAMPUS MINISTRO REI...   \n",
            "40  UNIVERSIDADE FEDERAL PIAUI CAMPUS MINISTRO REI...   \n",
            "41  UNIVERSIDADE FEDERAL PIAUI CAMPUS MINISTRO REI...   \n",
            "42  UNIVERSIDADE FEDERAL PIAUI CAMPUS MINISTRO REI...   \n",
            "43  UNIVERSIDADE FEDERAL PIAUI CAMPUS MINISTRO REI...   \n",
            "44  UNIVERSIDADE FEDERAL PIAUI CAMPUS MINISTRO REI...   \n",
            "45     LABORATORIO ANALISES CLINICAS SAO VICENTE LTDA   \n",
            "\n",
            "                nome_corrigido_ngram  \n",
            "11   UNIAO ESCOLAS SUPERIORES FUNESO  \n",
            "12  UNIVERSIDADE ESTADO MINAS GERAIS  \n",
            "33        FACULDADE ESTADO SAO PAULO  \n",
            "38        UNIVERSIDADE FEDERAL PIAUI  \n",
            "39        UNIVERSIDADE FEDERAL PIAUI  \n",
            "40        UNIVERSIDADE FEDERAL PIAUI  \n",
            "41        UNIVERSIDADE FEDERAL PIAUI  \n",
            "42        UNIVERSIDADE FEDERAL PIAUI  \n",
            "43        UNIVERSIDADE FEDERAL PIAUI  \n",
            "44        UNIVERSIDADE FEDERAL PIAUI  \n",
            "45             FACULDADE SAO VICENTE  \n"
          ]
        }
      ]
    },
    {
      "cell_type": "markdown",
      "source": [
        "### Clustering: K-Means"
      ],
      "metadata": {
        "id": "YrDpB_ex5Jlf"
      }
    },
    {
      "cell_type": "code",
      "source": [
        "from sklearn.cluster import KMeans\n",
        "\n",
        "vectorizer = TfidfVectorizer().fit(df_uni_filtered['NOME_E_SIGLA'].values)\n",
        "tfidf_matrix_1 = vectorizer.transform(df_uni_filtered['NOME_E_SIGLA'].values)\n",
        "\n",
        "n_clusters = 2754  # quantidade de IES existentes\n",
        "kmeans = KMeans(n_clusters=n_clusters, random_state=42)\n",
        "kmeans.fit(tfidf_matrix_1)\n",
        "\n",
        "# Step 5: Get cluster labels and assign each document to a cluster\n",
        "cluster_labels = kmeans.labels_\n",
        "\n",
        "for i in range(n_clusters):\n",
        "    cluster_points = np.where(cluster_labels == i)[0]\n",
        "    cluster_center = kmeans.cluster_centers_[i]\n",
        "\n",
        "    # Find document closest to the centroid (most recurring)\n",
        "    closest_doc_idx = np.argmax(cosine_similarity(tfidf_matrix_1[cluster_points], [cluster_center]))\n",
        "    most_recurring_idx = cluster_points[closest_doc_idx]\n",
        "    original_row_index = df2_edu.index[most_recurring_idx]\n",
        "    most_recurring_document = df2_edu.loc[original_row_index]\n",
        "    print(most_recurring_document['NOME-INSTITUICAO'])\n",
        "most_recurring_document"
      ],
      "metadata": {
        "collapsed": true,
        "id": "IaYifA3s0h_n"
      },
      "execution_count": null,
      "outputs": []
    },
    {
      "cell_type": "code",
      "source": [
        "from sklearn.feature_extraction.text import TfidfVectorizer\n",
        "from sklearn.cluster import KMeans\n",
        "\n",
        "# Vetorização TF-IDF com n-gramas\n",
        "vectorizer = TfidfVectorizer().fit(df_uni_filtered['NOME_DA_IES'])\n",
        "tfidf_matrix_universidades = vectorizer.transform(df_uni_filtered['NOME_DA_IES'])\n",
        "\n",
        "# Aplicar K-means\n",
        "num_clusters = 4000\n",
        "kmeans = KMeans(n_clusters=num_clusters, random_state=42).fit(tfidf_matrix_universidades)\n",
        "clusters = kmeans.predict(tfidf_matrix_universidades)\n",
        "\n",
        "# Adicionar os rótulos de cluster ao DataFrame\n",
        "df_uni_filtered['cluster'] = clusters\n",
        "\n",
        "# Crie um dicionário para armazenar o nome mais representativo de cada cluster\n",
        "representative_names = {}\n",
        "for cluster in range(num_clusters):\n",
        "    cluster_names = df_uni_filtered[df_uni_filtered['cluster'] == cluster]['NOME_DA_IES']\n",
        "    # Escolha o nome mais frequente no cluster como representante\n",
        "    representative_names[cluster] = cluster_names.mode()[0]\n",
        "\n",
        "# Nova coluna\n",
        "df2_edu['nome_corrigido_kmeans'] = ''\n",
        "\n",
        "for index, row in df2_edu.iterrows():\n",
        "    nome_instituicao = row['NOME-INSTITUICAO']\n",
        "\n",
        "    vector_comparacao = vectorizer.transform([nome_instituicao])\n",
        "\n",
        "    # Prever o cluster para o nome da instituição\n",
        "    cluster_prediction = kmeans.predict(vector_comparacao)[0]\n",
        "\n",
        "    # Obter o nome mais representativo do cluster\n",
        "    nome_corrigido = representative_names.get(cluster_prediction, nome_instituicao)\n",
        "\n",
        "    df2_edu.at[index, 'nome_corrigido_kmeans'] = nome_corrigido\n",
        "\n",
        "    # print(f'{nome_instituicao} corrigido para {nome_corrigido}')\n"
      ],
      "metadata": {
        "id": "pISvOjMjZujh"
      },
      "execution_count": null,
      "outputs": []
    },
    {
      "cell_type": "code",
      "source": [
        "pd.set_option('display.max_rows', 100)\n",
        "print(df2_edu[['NOME-INSTITUICAO', 'nome_corrigido_kmeans']].loc[df2_edu['NOME-INSTITUICAO'] != df2_edu['nome_corrigido_kmeans']])"
      ],
      "metadata": {
        "collapsed": true,
        "id": "duh4DPdca89a"
      },
      "execution_count": null,
      "outputs": []
    },
    {
      "cell_type": "code",
      "source": [
        "import matplotlib.pyplot as plt\n",
        "from mpl_toolkits.mplot3d import Axes3D\n",
        "from sklearn.decomposition import PCA\n",
        "\n",
        "# Reduzir dimensionalidade com PCA para 3 componentes\n",
        "pca = PCA(n_components=3)  # Reduzir para 3 dimensões\n",
        "reduced_features = pca.fit_transform(tfidf_matrix_universidades.toarray())\n",
        "\n",
        "# Adicionar as dimensões reduzidas e os rótulos de cluster ao DataFrame\n",
        "df_uni_filtered['pca1'] = reduced_features[:, 0]\n",
        "df_uni_filtered['pca2'] = reduced_features[:, 1]\n",
        "df_uni_filtered['pca3'] = reduced_features[:, 2]\n",
        "df_uni_filtered['cluster'] = clusters\n",
        "\n",
        "# Plotar os resultados em 3D\n",
        "fig = plt.figure(figsize=(14, 10))\n",
        "ax = fig.add_subplot(111, projection='3d')\n",
        "\n",
        "# Scatter plot\n",
        "scatter = ax.scatter(df_uni_filtered['pca1'], df_uni_filtered['pca2'], df_uni_filtered['pca3'],\n",
        "                     c=df_uni_filtered['cluster'], cmap='viridis', alpha=0.7)\n",
        "\n",
        "# Adicionar barra de cores\n",
        "cbar = plt.colorbar(scatter)\n",
        "cbar.set_label('Cluster')\n",
        "\n",
        "# Configurar rótulos dos eixos\n",
        "ax.set_xlabel('PCA Component 1')\n",
        "ax.set_ylabel('PCA Component 2')\n",
        "ax.set_zlabel('PCA Component 3')\n",
        "\n",
        "# Adicionar título\n",
        "plt.title('3D Visualization of K-means Clustering Results')\n",
        "\n",
        "plt.show()\n"
      ],
      "metadata": {
        "id": "_mwWCGMrbiAk"
      },
      "execution_count": null,
      "outputs": []
    },
    {
      "cell_type": "markdown",
      "source": [
        "### Word Embedding\n",
        "- muito lentooo\n",
        "- 50k linhas : 3min"
      ],
      "metadata": {
        "id": "S9NzgnRzZA2T"
      }
    },
    {
      "cell_type": "code",
      "source": [
        "!python -m spacy download pt_core_news_sm\n",
        "import spacy\n",
        "\n",
        "# AJUSTAR O CODIGO PQ NAO TROCA A COLUNA NEM NADA\n",
        "\n",
        "nlp = spacy.load(\"pt_core_news_sm\")  # Carrega um modelo pré-treinado\n",
        "df2['spacy_similarity'] = df2.apply(\n",
        "    lambda row: nlp(row['NOME-INSTITUICAO']).similarity(nlp(df_uni_filtered['NOME_DA_IES'][row['indice_mais_similar']])),\n",
        "    axis=1\n",
        ")\n",
        "\n",
        "df2"
      ],
      "metadata": {
        "id": "tOWcN-3YZDUM"
      },
      "execution_count": null,
      "outputs": []
    },
    {
      "cell_type": "markdown",
      "source": [
        "### Word2Vect"
      ],
      "metadata": {
        "id": "TYcdvOaacBIE"
      }
    },
    {
      "cell_type": "code",
      "source": [],
      "metadata": {
        "id": "1g0BU_brcDQ4"
      },
      "execution_count": null,
      "outputs": []
    },
    {
      "cell_type": "markdown",
      "source": [
        "## MERGE SAME UNI"
      ],
      "metadata": {
        "id": "yMs_hr88HCSX"
      }
    },
    {
      "cell_type": "code",
      "source": [
        "# merge ANO-INICIO and ANO-FIM with same CODIGO-INSTITUICAO and NRO-ID-CNPQ\n",
        "\n",
        "df_merged = df.groupby(['NRO-ID-CNPQ', 'CODIGO-INSTITUICAO']).agg(\n",
        "    earliest_date1=('ANO-INICIO', 'min'),\n",
        "    latest_date2=('ANO-FIM', 'max')\n",
        ").reset_index()\n",
        "\n",
        "\n",
        "# df.loc[df['NRO-ID-CNPQ'] == 3300778291054405]"
      ],
      "metadata": {
        "collapsed": true,
        "id": "2UILjKN8ivGX"
      },
      "execution_count": null,
      "outputs": []
    },
    {
      "cell_type": "code",
      "source": [
        "# merge column NOME-INSTITUICAO with df_merged\n",
        "\n",
        "df_drop_duplicates = df.drop_duplicates(subset=['NRO-ID-CNPQ', 'CODIGO-INSTITUICAO'])\n",
        "df_inst_merged = pd.merge(df_merged, df_drop_duplicates, on=['CODIGO-INSTITUICAO', 'NRO-ID-CNPQ'], how='left')\n",
        "df_inst_merged['NOME-INSTITUICAO'] = df_inst_merged['NOME-INSTITUICAO'].str.upper()\n",
        "\n",
        "df_inst_merged = df_inst_merged[['NRO-ID-CNPQ', 'CODIGO-INSTITUICAO', 'earliest_date1', 'latest_date2', 'NOME-INSTITUICAO']]\n",
        "df_inst_merged"
      ],
      "metadata": {
        "id": "XG2dRH1glZ6A",
        "collapsed": true
      },
      "execution_count": null,
      "outputs": []
    },
    {
      "cell_type": "markdown",
      "source": [
        "## EXPORT TO CSV"
      ],
      "metadata": {
        "id": "NRz3VRBqHGW-"
      }
    },
    {
      "cell_type": "code",
      "source": [
        "df_inst_merged.to_csv(\"atuacoes_2_filtrado.csv\", encoding='utf8')"
      ],
      "metadata": {
        "id": "QJ74QOglqEBH"
      },
      "execution_count": null,
      "outputs": []
    }
  ]
}