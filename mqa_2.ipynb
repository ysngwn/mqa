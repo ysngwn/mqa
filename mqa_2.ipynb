{
  "nbformat": 4,
  "nbformat_minor": 0,
  "metadata": {
    "colab": {
      "provenance": [],
      "collapsed_sections": [
        "MTrrgTO6SP5l",
        "DfWK_wpL93gu",
        "ebnx3vUR97YU"
      ]
    },
    "kernelspec": {
      "name": "python3",
      "display_name": "Python 3"
    },
    "language_info": {
      "name": "python"
    }
  },
  "cells": [
    {
      "cell_type": "markdown",
      "source": [
        "## INTRO\n",
        "\n"
      ],
      "metadata": {
        "id": "MTrrgTO6SP5l"
      }
    },
    {
      "cell_type": "code",
      "execution_count": null,
      "metadata": {
        "id": "00SstqcJMsXL"
      },
      "outputs": [],
      "source": [
        "from google.colab import drive\n",
        "import os\n",
        "\n",
        "import pandas as pd\n",
        "import numpy as np\n",
        "\n",
        "drive.mount('/content/gdrive')\n",
        "os.chdir('/content/gdrive/My Drive/USP/2024_2º/MQA/')\n",
        "\n",
        "pd.set_option('display.max_rows', 6)\n",
        "pd.set_option('display.max_columns', None)"
      ]
    },
    {
      "cell_type": "markdown",
      "source": [
        "## READ_CSV"
      ],
      "metadata": {
        "id": "DfWK_wpL93gu"
      }
    },
    {
      "cell_type": "code",
      "source": [
        "df = pd.read_csv('atuacoes_2.csv', encoding='UTF-8', nrows=200) #, dtype=str, nrows=1000)\n",
        "\n",
        "df['ANO-FIM'] = df['ANO-FIM'].fillna(2024)\n",
        "df['FLAG-DEDICACAO-EXCLUSIVA'] = df['FLAG-DEDICACAO-EXCLUSIVA'].replace('NAO', False).replace('SIM', True)\n",
        "\n",
        "df = df.astype({\n",
        "    'NRO-ID-CNPQ': int,\n",
        "    'CODIGO-INSTITUICAO': str,\n",
        "    'NOME-INSTITUICAO': str,\n",
        "    'ANO-INICIO': int,\n",
        "    'ANO-FIM': int,\n",
        "    'ENQUADRAMENTO-FUNCIONAL': str,\n",
        "    'TIPO-DE-VINCULO': str,\n",
        "    'OUTRAS-INFORMACOES': str,\n",
        "    'CARGA-HORARIA-SEMANAL': float,\n",
        "    'FLAG-DEDICACAO-EXCLUSIVA': bool\n",
        "})\n",
        "\n",
        "df = df.fillna(' ')\n",
        "df2 = df.copy(deep=True)\n",
        "\n",
        "#df"
      ],
      "metadata": {
        "id": "CFoGSIJUNa0V",
        "collapsed": true
      },
      "execution_count": null,
      "outputs": []
    },
    {
      "cell_type": "code",
      "source": [
        "# LISTA DE IES NACIONAIS\n",
        "# https://dadosabertos.mec.gov.br/indicadores-sobre-ensino-superior/item/181-instituicoes-de-educacao-superior-do-brasil\n",
        "# https://dadosabertos.mec.gov.br/images/conteudo/Ind-ensino-superior/2022/PDA_Lista_Instituicoes_Ensino_Superior_do_Brasil_EMEC.csv\n",
        "\n",
        "df_uni = pd.read_csv('sup.csv', encoding='UTF-8')\n",
        "df_uni_filtered = df_uni[['NOME_DA_IES', 'SIGLA']]\n",
        "df_uni_filtered = df_uni_filtered.fillna('')\n",
        "df_uni_filtered = df_uni_filtered.sort_values(['NOME_DA_IES'], ascending=False)\n",
        "df_uni_filtered"
      ],
      "metadata": {
        "collapsed": true,
        "id": "9DBxFuCNCvXW"
      },
      "execution_count": null,
      "outputs": []
    },
    {
      "cell_type": "markdown",
      "source": [
        "## PRE-PROCESSAMENTO"
      ],
      "metadata": {
        "id": "ebnx3vUR97YU"
      }
    },
    {
      "cell_type": "code",
      "source": [
        "def clean_names(df, column_name):\n",
        "\n",
        "    # Remover '&'\n",
        "    df[column_name] = df[column_name].replace('&AMP;', ' ', regex=True)\n",
        "\n",
        "    # Remover todos os caracteres nao alfa-numericos, exceto whitespace\n",
        "    df[column_name] = df[column_name].str.replace('[^\\w\\s]', ' ', regex=True)\n",
        "\n",
        "    # Normalizar a string\n",
        "    df[column_name] = df[column_name].str.normalize('NFKD').str.encode('ascii', errors='ignore').str.decode('utf-8')\n",
        "\n",
        "    # Remover stopwords\n",
        "    stop = ['DO', 'DA', 'DE', 'E']\n",
        "    df[column_name] = df[column_name].apply(lambda x: ' '.join([word for word in x.split() if word not in (stop)]))\n",
        "\n",
        "    # Strip whitespace\n",
        "    df[column_name] = df[column_name].apply(lambda x: x.strip())\n",
        "\n",
        "    return df"
      ],
      "metadata": {
        "id": "m_7f_j8ItqUW"
      },
      "execution_count": null,
      "outputs": []
    },
    {
      "cell_type": "code",
      "source": [
        "# Lista de Curriculo Lattes\n",
        "\n",
        "# Tratar os nomes da NOME-INSTITUICAO\n",
        "df2 = df2.apply(lambda x: x.astype(str).str.upper())\n",
        "df2 = clean_names(df2, 'NOME-INSTITUICAO')\n",
        "\n",
        "# Dropar linhas com IES < 50\n",
        "#df2 = df2[df2.groupby('NOME-INSTITUICAO')['NOME-INSTITUICAO'].transform('count').ge(50)]\n",
        "\n",
        "# Split df: educacao & outros\n",
        "df2_edu = df2.loc[df2['ENQUADRAMENTO-FUNCIONAL'].isin(['LIVRE', 'COLABORADOR', 'PROFESSOR_VISITANTE'])].copy(deep=True)\n",
        "df2_outros = df2.loc[df2['ENQUADRAMENTO-FUNCIONAL'].isin(['SERVIDOR_PUBLICO', 'CELETISTA', 'NAN', 'OUTRO'])].copy(deep=True)\n",
        "\n",
        "df2_edu"
      ],
      "metadata": {
        "collapsed": true,
        "id": "9aEDyAjASwo1"
      },
      "execution_count": null,
      "outputs": []
    },
    {
      "cell_type": "code",
      "source": [
        "# Lista de IES\n",
        "df_uni_filtered = df_uni_filtered.apply(lambda x: x.astype(str).str.upper())\n",
        "df_uni_filtered = clean_names(df_uni_filtered, 'NOME_DA_IES')\n",
        "\n",
        "# merge colunas NOME e SIGLA\n",
        "df_uni_filtered['NOME_E_SIGLA'] = df_uni_filtered['SIGLA'] + ' ' + df_uni_filtered['NOME_DA_IES']\n",
        "df_uni_filtered"
      ],
      "metadata": {
        "collapsed": true,
        "id": "kBPNTDKHuyrt"
      },
      "execution_count": null,
      "outputs": []
    },
    {
      "cell_type": "code",
      "source": [
        "# Split lista de IES por inicio do nome\n",
        "df_uni_filtered.sort_values(by=[\"NOME_DA_IES\"], ascending=True)\n",
        "\n",
        "df_uni_outros = df_uni_filtered.copy(deep=True)\n",
        "\n",
        "df_uni_instituto = df_uni_outros[df_uni_outros['NOME_DA_IES'].str.contains('INSTITUTO')]\n",
        "df_uni_outros.drop(df_uni_outros[df_uni_outros['NOME_DA_IES'].str.contains('INSTITUTO')].index, inplace=True)\n",
        "\n",
        "df_uni_faculdades = df_uni_outros[df_uni_outros['NOME_DA_IES'].str.contains('FACULDADE')]\n",
        "df_uni_outros.drop(df_uni_outros[df_uni_outros['NOME_DA_IES'].str.contains('FACULDADE')].index, inplace=True)\n",
        "\n",
        "df_uni_escola = df_uni_outros[df_uni_outros['NOME_DA_IES'].str.contains('ESCOLA')]\n",
        "df_uni_outros.drop(df_uni_outros[df_uni_outros['NOME_DA_IES'].str.contains('ESCOLA')].index, inplace=True)\n",
        "\n",
        "df_uni_universidade = df_uni_outros[df_uni_outros['NOME_DA_IES'].str.contains('UNIVERSIDADE')]\n",
        "df_uni_outros.drop(df_uni_outros[df_uni_outros['NOME_DA_IES'].str.contains('UNIVERSIDADE')].index, inplace=True)\n",
        "\n",
        "df_uni_instituicao = df_uni_outros[df_uni_outros['NOME_DA_IES'].str.contains('INSTITUICAO')]\n",
        "df_uni_outros.drop(df_uni_outros[df_uni_outros['NOME_DA_IES'].str.contains('INSTITUICAO')].index, inplace=True)\n",
        "\n",
        "# List\n",
        "# df_uni_outros, df_uni_instituto, df_uni_faculdades, df_uni_escola, df_uni_universidade, df_uni_instituicao"
      ],
      "metadata": {
        "id": "3JwhdEpRVZvu"
      },
      "execution_count": null,
      "outputs": []
    },
    {
      "cell_type": "markdown",
      "source": [
        "## NLP\n"
      ],
      "metadata": {
        "id": "l4oFZp0WWw6O"
      }
    },
    {
      "cell_type": "markdown",
      "source": [
        "### Cosine"
      ],
      "metadata": {
        "id": "ZpUuXCDrW3II"
      }
    },
    {
      "cell_type": "code",
      "source": [
        "def get_uni_list_df(nome_instituicao):\n",
        "    if 'INSTITUTO' in nome_instituicao:\n",
        "        return df_uni_instituto, tfidf_matrix_instituto\n",
        "    elif 'FACULDADE' in nome_instituicao:\n",
        "        return df_uni_faculdades, tfidf_matrix_faculdades\n",
        "    elif 'ESCOLA' in nome_instituicao:\n",
        "        return df_uni_escola, tfidf_matrix_escola\n",
        "    elif 'UNIVERSIDADE' in nome_instituicao:\n",
        "        return df_uni_universidade, tfidf_matrix_universidade\n",
        "    elif 'INSTITUICAO' in nome_instituicao:\n",
        "        return df_uni_instituicao, tfidf_matrix_instituicao\n",
        "\n",
        "    return df_uni_outros, tfidf_matrix_outros\n",
        "\n",
        "\n",
        "def iterate_sigla(nome_instituicao, df_for_search):\n",
        "\n",
        "    matched_rows = []\n",
        "\n",
        "    print(nome_instituicao)\n",
        "\n",
        "    for index, row in df_for_search.iterrows():\n",
        "\n",
        "        if row['SIGLA']:\n",
        "\n",
        "            pattern = r'\\b' + row['SIGLA'] + r'\\b'\n",
        "            if re.search(pattern, nome_instituicao):\n",
        "                matched_rows.append(row['SIGLA'])\n",
        "                print(\"Matched SIGLA: \", row['SIGLA'], \" - \", row['NOME_DA_IES'])\n",
        "\n",
        "            # dos diversos matches, qual mais faz sentido?\n",
        "            #if len(matched_rows) > 1:\n",
        "\n",
        "    return \",\".join(str(element) for element in matched_rows)"
      ],
      "metadata": {
        "id": "eVQQpTljFdbq"
      },
      "execution_count": 75,
      "outputs": []
    },
    {
      "cell_type": "code",
      "source": [
        "from sklearn.feature_extraction.text import TfidfVectorizer\n",
        "from sklearn.metrics.pairwise import cosine_similarity\n",
        "import re\n",
        "\n",
        "threshold = 0.8\n",
        "\n",
        "# Vetorização TF-IDF\n",
        "vectorizer = TfidfVectorizer().fit(df_uni_filtered['NOME_DA_IES'])\n",
        "tfidf_matrix_universidades = vectorizer.transform(df_uni_filtered['NOME_DA_IES']) # geral\n",
        "tfidf_matrix_instituto = vectorizer.transform(df_uni_instituto['NOME_DA_IES'])\n",
        "tfidf_matrix_faculdades = vectorizer.transform(df_uni_faculdades['NOME_DA_IES'])\n",
        "tfidf_matrix_escola = vectorizer.transform(df_uni_escola['NOME_DA_IES'])\n",
        "tfidf_matrix_universidade = vectorizer.transform(df_uni_universidade['NOME_DA_IES'])\n",
        "tfidf_matrix_instituicao = vectorizer.transform(df_uni_instituicao['NOME_DA_IES'])\n",
        "tfidf_matrix_outros = vectorizer.transform(df_uni_outros['NOME_DA_IES'])\n",
        "\n",
        "# Nova Coluna com Resultado\n",
        "df2_edu['nome_corrigido'] = ''\n",
        "df2_edu['sigla_detectado'] = ''\n",
        "\n",
        "\n",
        "# PLN\n",
        "for index, row in df2_edu.iterrows():\n",
        "\n",
        "    nome_instituicao = row['NOME-INSTITUICAO']\n",
        "    print(nome_instituicao)\n",
        "\n",
        "    # Ver se contém a sigla\n",
        "    sigla_detectado = iterate_sigla(nome_instituicao, df_uni_filtered)\n",
        "    if sigla_detectado:\n",
        "        df2_edu.at[index, 'sigla_detectado'] = sigla_detectado\n",
        "\n",
        "    # Se nao contem a sigla, procurar por nome completo\n",
        "    else:\n",
        "        vector_comparacao = vectorizer.transform([nome_instituicao])\n",
        "\n",
        "        uni_list_df, tfidf_matrix_df = get_uni_list_df(nome_instituicao)\n",
        "\n",
        "        similaridade = cosine_similarity(vector_comparacao, tfidf_matrix_df)\n",
        "\n",
        "        max_value = np.max(similaridade)\n",
        "        max_index = np.argmax(similaridade)\n",
        "\n",
        "        nome_corrigido = uni_list_df.iloc[max_index]['NOME_DA_IES']\n",
        "\n",
        "        print(\"nome corrigido : \", nome_corrigido, max_value)\n",
        "\n",
        "        if (max_value >= threshold):\n",
        "            df2_edu.at[index, 'nome_corrigido'] = nome_corrigido\n",
        "        else:\n",
        "            df2_edu.at[index, 'nome_corrigido'] = ''\n",
        "\n",
        "    print(\"==================\")"
      ],
      "metadata": {
        "collapsed": true,
        "id": "m2qr0ICWSl55"
      },
      "execution_count": null,
      "outputs": []
    },
    {
      "cell_type": "code",
      "source": [
        "# oq foi alterado\n",
        "pd.set_option('display.max_rows', 10)\n",
        "print(df2_edu[['NOME-INSTITUICAO', 'nome_corrigido']].loc[df2_edu['NOME-INSTITUICAO'] != df2_edu['nome_corrigido']])\n",
        "pd.set_option('display.max_rows', 6)"
      ],
      "metadata": {
        "collapsed": true,
        "id": "WCzEPI5aOpco"
      },
      "execution_count": null,
      "outputs": []
    }
  ]
}