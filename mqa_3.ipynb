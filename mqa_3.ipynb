{
  "nbformat": 4,
  "nbformat_minor": 0,
  "metadata": {
    "colab": {
      "provenance": [],
      "collapsed_sections": [
        "4DViQxkNK2Sq",
        "k2pylB0NK42F",
        "fbmdA53gU3ba",
        "gNwtQBngEeBC",
        "I-gS3KjqVNgI",
        "KqyoviZReqt5",
        "8mv5gu-FLTuR",
        "MYoYC5WJJ8a5",
        "ZggpFq-oJ7Au"
      ]
    },
    "kernelspec": {
      "name": "python3",
      "display_name": "Python 3"
    },
    "language_info": {
      "name": "python"
    }
  },
  "cells": [
    {
      "cell_type": "markdown",
      "source": [
        "# INTRO"
      ],
      "metadata": {
        "id": "4DViQxkNK2Sq"
      }
    },
    {
      "cell_type": "code",
      "execution_count": null,
      "metadata": {
        "id": "FpXs0hX-KyRU"
      },
      "outputs": [],
      "source": [
        "from google.colab import drive\n",
        "import os\n",
        "\n",
        "import pandas as pd\n",
        "import numpy as np\n",
        "import re\n",
        "\n",
        "drive.mount('/content/gdrive')\n",
        "os.chdir('/content/gdrive/My Drive/USP/2024_2º/MQA/')\n",
        "\n",
        "pd.set_option('display.max_rows', 6)\n",
        "pd.set_option('display.max_columns', None)"
      ]
    },
    {
      "cell_type": "markdown",
      "source": [
        "# IMPORT CSV _ lista de doutores"
      ],
      "metadata": {
        "id": "k2pylB0NK42F"
      }
    },
    {
      "cell_type": "code",
      "source": [
        "df = pd.read_csv('doutoresFeaturesParte_1.csv', encoding='UTF-8', nrows=39000)\n",
        "\n",
        "df.dropna(subset=[\"GrandesAreas\"], inplace=True)\n",
        "df.dropna(subset=[\"Genero\"], inplace=True)\n",
        "df.dropna(subset=[\"ExclusividadeDoutorado\"], inplace=True)\n",
        "\n",
        "\n",
        "df = df.fillna(' ')\n",
        "\n",
        "df = df.astype({\n",
        "    'IDLattes': int,\n",
        "    'DuracaoDoutorado': float,\n",
        "    'Genero': str,\n",
        "    'GrandesAreas': str,\n",
        "    'ExclusividadeDoutorado': str,\n",
        "    'Publicacoes': float,\n",
        "    'IdadeAcademica': str,\n",
        "    'ListaFiliacoes': str,\n",
        "    'UltimaFiliacao': str,\n",
        "})\n",
        "\n",
        "df_doutores = df.copy(deep=True)\n",
        "df_doutores\n",
        "\n",
        "# Nova Coluna com Resultado\n",
        "df_doutores['HistoricoFiliacoesEmIESInternacional'] = ''\n",
        "df_doutores['UltimaFiliacaoEmIES'] = ''"
      ],
      "metadata": {
        "id": "1PKV4uL8h2u3"
      },
      "execution_count": null,
      "outputs": []
    },
    {
      "cell_type": "code",
      "source": [
        "df_doutores"
      ],
      "metadata": {
        "id": "ZvaBg_fa6b2E"
      },
      "execution_count": null,
      "outputs": []
    },
    {
      "cell_type": "code",
      "source": [
        "df_doutores['GrandesAreas'].unique()"
      ],
      "metadata": {
        "collapsed": true,
        "id": "_ITuOW7-pXBz"
      },
      "execution_count": null,
      "outputs": []
    },
    {
      "cell_type": "markdown",
      "source": [
        "# IMPORT CSV _ IES Brasil"
      ],
      "metadata": {
        "id": "fbmdA53gU3ba"
      }
    },
    {
      "cell_type": "code",
      "source": [
        "# LISTA DE IES NACIONAIS\n",
        "# https://dadosabertos.mec.gov.br/indicadores-sobre-ensino-superior/item/181-instituicoes-de-educacao-superior-do-brasil\n",
        "# https://dadosabertos.mec.gov.br/images/conteudo/Ind-ensino-superior/2022/PDA_Lista_Instituicoes_Ensino_Superior_do_Brasil_EMEC.csv\n",
        "\n",
        "df_uni_br = pd.read_csv('sup.csv', encoding='UTF-8')\n",
        "df_uni_br = df_uni_br[['NOME_DA_IES', 'SIGLA']]\n",
        "df_uni_br = df_uni_br.fillna('')\n",
        "df_uni_br = df_uni_br.sort_values(['NOME_DA_IES'], ascending=False)\n",
        "df_uni_br"
      ],
      "metadata": {
        "id": "B7KOmZ6yLXgB",
        "collapsed": true
      },
      "execution_count": null,
      "outputs": []
    },
    {
      "cell_type": "markdown",
      "source": [
        "# IMPORT CSV _ IES Mundial"
      ],
      "metadata": {
        "id": "gNwtQBngEeBC"
      }
    },
    {
      "cell_type": "code",
      "source": [
        "# Lista de IES Mundial\n",
        "# https://zenodo.org/records/13965926\n",
        "# https://zenodo.org/records/13965926\n",
        "\n",
        "df_uni_world = pd.read_csv('ror.csv', encoding='UTF-8')\n",
        "\n",
        "df_uni_world = df_uni_world[['name', 'aliases', 'acronyms', 'country.country_code']]\n",
        "df_uni_world = df_uni_world.rename(columns={\n",
        "    'country.country_code': 'PAIS',\n",
        "    'name': 'NOME_DA_IES',\n",
        "    'acronyms': 'SIGLA',\n",
        "    'aliases': 'ALIASES'\n",
        "})\n",
        "\n",
        "# IES BR foram removidos pois os nomes não estão em inglês e assim ficaria duplicado em relação a dataset do MEC\n",
        "df_uni_world = df_uni_world[df_uni_world['PAIS'] != 'BR']\n",
        "\n",
        "df_uni_world = df_uni_world.fillna('')\n",
        "\n",
        "df_uni_world"
      ],
      "metadata": {
        "id": "zkBxwPYIEb2W"
      },
      "execution_count": null,
      "outputs": []
    },
    {
      "cell_type": "markdown",
      "source": [
        "# PRE-PROCESSAMENTO"
      ],
      "metadata": {
        "id": "I-gS3KjqVNgI"
      }
    },
    {
      "cell_type": "code",
      "source": [
        "def clean_names(df, column_name, remove_semicolon=True):\n",
        "\n",
        "    # Remover '&'\n",
        "    df[column_name] = df[column_name].replace('&AMP;', ' ', regex=True)\n",
        "\n",
        "    # Remover todos os caracteres nao alfa-numericos, exceto whitespace e ;\n",
        "    if remove_semicolon:\n",
        "        df[column_name] = df[column_name].str.replace('[^\\w\\s]', ' ', regex=True)\n",
        "    else:\n",
        "        df[column_name] = df[column_name].str.replace('[^\\w\\s;]', ' ', regex=True)\n",
        "\n",
        "    # Normalizar a string\n",
        "    df[column_name] = df[column_name].str.normalize('NFKD').str.encode('ascii', errors='ignore').str.decode('utf-8')\n",
        "\n",
        "    # Remover stopwords\n",
        "    stop = ['DO', 'DA', 'DE', 'E']\n",
        "    df[column_name] = df[column_name].apply(lambda x: ' '.join([word for word in x.split() if word not in (stop)]))\n",
        "\n",
        "    # Strip whitespace\n",
        "    df[column_name] = df[column_name].apply(lambda x: x.strip())\n",
        "\n",
        "    return df"
      ],
      "metadata": {
        "id": "PrVp79lMVPLh"
      },
      "execution_count": null,
      "outputs": []
    },
    {
      "cell_type": "code",
      "source": [
        "df_doutores = df_doutores.apply(lambda x:x.astype(str).str.upper())\n",
        "df_doutores = clean_names(df_doutores, 'ListaFiliacoes', False)\n",
        "df_doutores = clean_names(df_doutores, 'UltimaFiliacao', False)\n",
        "\n",
        "df_uni_br = df_uni_br.apply(lambda x:x.astype(str).str.upper())\n",
        "df_uni_br = clean_names(df_uni_br, 'NOME_DA_IES')"
      ],
      "metadata": {
        "id": "1_zyGXunVXes"
      },
      "execution_count": null,
      "outputs": []
    },
    {
      "cell_type": "code",
      "source": [
        "# Split lista de IES por inicio do nome\n",
        "df_uni_br.sort_values(by=[\"NOME_DA_IES\"], ascending=True)\n",
        "\n",
        "df_uni_outros = df_uni_br.copy(deep=True)\n",
        "\n",
        "df_uni_instituto = df_uni_outros[df_uni_outros['NOME_DA_IES'].str.contains('INSTITUTO')]\n",
        "df_uni_outros.drop(df_uni_outros[df_uni_outros['NOME_DA_IES'].str.contains('INSTITUTO')].index, inplace=True)\n",
        "\n",
        "df_uni_faculdades = df_uni_outros[df_uni_outros['NOME_DA_IES'].str.contains('FACULDADE')]\n",
        "df_uni_outros.drop(df_uni_outros[df_uni_outros['NOME_DA_IES'].str.contains('FACULDADE')].index, inplace=True)\n",
        "\n",
        "df_uni_escola = df_uni_outros[df_uni_outros['NOME_DA_IES'].str.contains('ESCOLA')]\n",
        "df_uni_outros.drop(df_uni_outros[df_uni_outros['NOME_DA_IES'].str.contains('ESCOLA')].index, inplace=True)\n",
        "\n",
        "df_uni_universidade = df_uni_outros[df_uni_outros['NOME_DA_IES'].str.contains('UNIVERSIDADE')]\n",
        "df_uni_outros.drop(df_uni_outros[df_uni_outros['NOME_DA_IES'].str.contains('UNIVERSIDADE')].index, inplace=True)\n",
        "\n",
        "df_uni_instituicao = df_uni_outros[df_uni_outros['NOME_DA_IES'].str.contains('INSTITUICAO')]\n",
        "df_uni_outros.drop(df_uni_outros[df_uni_outros['NOME_DA_IES'].str.contains('INSTITUICAO')].index, inplace=True)\n",
        "\n",
        "# List\n",
        "# df_uni_outros, df_uni_instituto, df_uni_faculdades, df_uni_escola, df_uni_universidade, df_uni_instituicao"
      ],
      "metadata": {
        "id": "_hELLPGIV3K2"
      },
      "execution_count": null,
      "outputs": []
    },
    {
      "cell_type": "markdown",
      "source": [
        "# Merge IES df"
      ],
      "metadata": {
        "id": "KqyoviZReqt5"
      }
    },
    {
      "cell_type": "code",
      "source": [
        "df_uni_br['PAIS'] = 'BR'\n",
        "df_uni_br['ALIASES'] = ''\n",
        "\n",
        "print( (df_uni_world.shape[0] + df_uni_br.shape[0]), ' = ', df_uni_world.shape[0], ' + ', df_uni_br.shape[0])\n",
        "\n",
        "df_uni = pd.concat([df_uni_br, df_uni_world])\n",
        "\n",
        "df_uni[\"SIGLA\"] = df_uni[\"SIGLA\"].apply(lambda x: x.split(\";\")[0].strip())\n",
        "clean_names(df_uni, \"SIGLA\")"
      ],
      "metadata": {
        "collapsed": true,
        "id": "kLu9Ckn6epiB"
      },
      "execution_count": null,
      "outputs": []
    },
    {
      "cell_type": "code",
      "source": [
        "df_uni_sigla = df_uni.copy(deep=True)\n",
        "\n",
        "rows_to_drop = df_uni_sigla[df_uni_sigla['SIGLA']==''].index\n",
        "df_uni_sigla.drop(rows_to_drop, inplace=True)"
      ],
      "metadata": {
        "id": "ND6dTCwnH9kg"
      },
      "execution_count": null,
      "outputs": []
    },
    {
      "cell_type": "code",
      "source": [
        "df_uni_sigla"
      ],
      "metadata": {
        "id": "29Inj1y-H-8s"
      },
      "execution_count": null,
      "outputs": []
    },
    {
      "cell_type": "markdown",
      "source": [
        "# PLN"
      ],
      "metadata": {
        "id": "uUDVZhC1V5i0"
      }
    },
    {
      "cell_type": "markdown",
      "source": [
        "## TF_IDF"
      ],
      "metadata": {
        "id": "NYEF_O3SK86x"
      }
    },
    {
      "cell_type": "code",
      "source": [
        "def get_uni_list_df(nome_instituicao):\n",
        "    if 'INSTITUTO' in nome_instituicao:\n",
        "        return df_uni_instituto, tfidf_matrix_instituto\n",
        "    elif 'FACULDADE' in nome_instituicao:\n",
        "        return df_uni_faculdades, tfidf_matrix_faculdades\n",
        "    elif 'ESCOLA' in nome_instituicao:\n",
        "        return df_uni_escola, tfidf_matrix_escola\n",
        "    elif 'UNIVERSIDADE' in nome_instituicao:\n",
        "        return df_uni_universidade, tfidf_matrix_universidade\n",
        "    elif 'INSTITUICAO' in nome_instituicao:\n",
        "        return df_uni_instituicao, tfidf_matrix_instituicao\n",
        "\n",
        "    return df_uni_outros, tfidf_matrix_outros"
      ],
      "metadata": {
        "id": "Gxpp_ZSxV6Ki"
      },
      "execution_count": null,
      "outputs": []
    },
    {
      "cell_type": "code",
      "source": [
        "from sklearn.feature_extraction.text import TfidfVectorizer\n",
        "from sklearn.metrics.pairwise import cosine_similarity\n",
        "\n",
        "# Vetorização TF-IDF : Lista IES Brasil\n",
        "vectorizer_b = TfidfVectorizer().fit(df_uni_br['NOME_DA_IES'])\n",
        "tfidf_matrix_universidades = vectorizer_b.transform(df_uni_br['NOME_DA_IES']) # geral\n",
        "tfidf_matrix_instituto = vectorizer_b.transform(df_uni_instituto['NOME_DA_IES'])\n",
        "tfidf_matrix_faculdades = vectorizer_b.transform(df_uni_faculdades['NOME_DA_IES'])\n",
        "tfidf_matrix_escola = vectorizer_b.transform(df_uni_escola['NOME_DA_IES'])\n",
        "tfidf_matrix_universidade = vectorizer_b.transform(df_uni_universidade['NOME_DA_IES'])\n",
        "tfidf_matrix_instituicao = vectorizer_b.transform(df_uni_instituicao['NOME_DA_IES'])\n",
        "tfidf_matrix_outros = vectorizer_b.transform(df_uni_outros['NOME_DA_IES'])\n",
        "\n",
        "# Vetorização TF-IDF : Lista IES Mundial\n",
        "vectorizer_w = TfidfVectorizer().fit(df_uni_world['NOME_DA_IES'])\n",
        "tfidf_matrix_world = vectorizer_w.transform(df_uni_world['NOME_DA_IES'])"
      ],
      "metadata": {
        "id": "N1wmcCYtYhL9"
      },
      "execution_count": null,
      "outputs": []
    },
    {
      "cell_type": "code",
      "source": [
        "def iterate_sigla(nome_instituicao):\n",
        "\n",
        "    #lista = df_uni[\"SIGLA\"].apply(lambda x: True if (x + ' ' in nome_instituicao) or (' ' + x in nome_instituicao) or (' ' + x + ' ' in nome_instituicao) else False)\n",
        "    lista = df_uni_sigla[\"SIGLA\"].apply(lambda x: bool(re.search(rf'\\b{x}\\b', nome_instituicao)))\n",
        "    siglas_encontradas = df_uni_sigla[lista]\n",
        "\n",
        "    if siglas_encontradas.empty:\n",
        "        return '', ''\n",
        "    else:\n",
        "        return siglas_encontradas.iloc[0]['SIGLA'], siglas_encontradas.iloc[0]['PAIS']"
      ],
      "metadata": {
        "id": "tUw_NcxjGHss"
      },
      "execution_count": null,
      "outputs": []
    },
    {
      "cell_type": "markdown",
      "source": [
        "## UltimaFiliacaoEmIES"
      ],
      "metadata": {
        "id": "8mv5gu-FLTuR"
      }
    },
    {
      "cell_type": "code",
      "source": [
        "threshold = 0.8\n",
        "\n",
        "def metodo1(nomes_instituicoes):\n",
        "\n",
        "    if nomes_instituicoes:\n",
        "\n",
        "        nomes_instituicoes_split = str(nomes_instituicoes).split(';')\n",
        "\n",
        "        for nome_instituicao in nomes_instituicoes_split:\n",
        "\n",
        "            nome_instituicao = nome_instituicao.strip()\n",
        "\n",
        "            #print(nome_instituicao)\n",
        "\n",
        "            # Ver se contém a sigla\n",
        "            sigla_detectado, _ = iterate_sigla(nome_instituicao)\n",
        "            if sigla_detectado:\n",
        "                #print(\"sigla detectado : \", sigla_detectado)\n",
        "                #print(\"==================\")\n",
        "                return '1'\n",
        "\n",
        "            # Se nao contem a sigla, procurar por nome completo\n",
        "            else:\n",
        "                vector_comparacao = vectorizer_b.transform([nome_instituicao])\n",
        "\n",
        "                uni_list_df, tfidf_matrix_df = get_uni_list_df(nome_instituicao)\n",
        "\n",
        "                similaridade = cosine_similarity(vector_comparacao, tfidf_matrix_df)\n",
        "\n",
        "                max_value = np.max(similaridade)\n",
        "                max_index = np.argmax(similaridade)\n",
        "\n",
        "                nome_detectado = uni_list_df.iloc[max_index]['NOME_DA_IES']\n",
        "\n",
        "                if (max_value >= threshold):\n",
        "                    #print(\"ies br detectado : \", nome_detectado, max_value)\n",
        "                    #print(\"==================\")\n",
        "                    return '1'\n",
        "\n",
        "                # se nao achou nenhuma ies br, procurar ies estrangeira\n",
        "                else:\n",
        "                    vector_comparacao = vectorizer_w.transform([nome_instituicao])\n",
        "                    uni_list_df, tfidf_matrix_df = df_uni_world, tfidf_matrix_world\n",
        "                    similaridade = cosine_similarity(vector_comparacao, tfidf_matrix_df)\n",
        "\n",
        "                    max_value = np.max(similaridade)\n",
        "                    max_index = np.argmax(similaridade)\n",
        "\n",
        "                    nome_detectado = uni_list_df.iloc[max_index]['NOME_DA_IES']\n",
        "\n",
        "                    if (max_value >= threshold):\n",
        "                        #print(\"ies estrangeiro detectado : \", nome_detectado, max_value)\n",
        "                        #print(\"==================\")\n",
        "                        return '1'\n",
        "\n",
        "                    else:\n",
        "                        print(\"==================\")\n",
        "\n",
        "                    # nao eh ies\n",
        "\n",
        "        print(\"==================\")\n",
        "\n",
        "    return '0'\n",
        "\n",
        "df_doutores['UltimaFiliacaoEmIES'] = df_doutores[\"UltimaFiliacao\"].apply(lambda x: metodo1(x))"
      ],
      "metadata": {
        "id": "4XZUgMHwYAxd",
        "collapsed": true
      },
      "execution_count": null,
      "outputs": []
    },
    {
      "cell_type": "code",
      "source": [
        "df_doutores['UltimaFiliacaoEmIES']"
      ],
      "metadata": {
        "id": "_q6lxz2uymjG"
      },
      "execution_count": null,
      "outputs": []
    },
    {
      "cell_type": "markdown",
      "source": [
        "## HistoricoFiliacoesEmIESInternacional"
      ],
      "metadata": {
        "id": "yQyIInfKoP8E"
      }
    },
    {
      "cell_type": "code",
      "source": [
        "def metodo1(nomes_instituicoes):\n",
        "\n",
        "    paises_detectados = []\n",
        "    tem_historico = 0\n",
        "\n",
        "    if nomes_instituicoes:\n",
        "\n",
        "        nomes_instituicoes_split = str(nomes_instituicoes).split(';')\n",
        "\n",
        "        for nome_instituicao in nomes_instituicoes_split:\n",
        "\n",
        "            nome_instituicao = nome_instituicao.strip()\n",
        "\n",
        "            #print(nome_instituicao)\n",
        "\n",
        "            # Ver se contém a sigla\n",
        "            sigla_detectado, pais = iterate_sigla(nome_instituicao)\n",
        "            if pais:\n",
        "                paises_detectados.append(pais)\n",
        "                if pais != 'BR':\n",
        "                    tem_historico = 1\n",
        "\n",
        "            # Se nao contem a sigla, procurar por nome completo br\n",
        "            else:\n",
        "                vector_comparacao = vectorizer_b.transform([nome_instituicao])\n",
        "\n",
        "                uni_list_df, tfidf_matrix_df = get_uni_list_df(nome_instituicao)\n",
        "\n",
        "                similaridade = cosine_similarity(vector_comparacao, tfidf_matrix_df)\n",
        "\n",
        "                max_value = np.max(similaridade)\n",
        "\n",
        "                if (max_value >= threshold):\n",
        "                    paises_detectados.append('BR')\n",
        "\n",
        "                # se nao achou nenhuma ies br, procurar uma ies estrangeira\n",
        "                else:\n",
        "                    vector_comparacao = vectorizer_w.transform([nome_instituicao])\n",
        "                    uni_list_df, tfidf_matrix_df = df_uni_world, tfidf_matrix_world\n",
        "                    similaridade = cosine_similarity(vector_comparacao, tfidf_matrix_df)\n",
        "\n",
        "                    max_value = np.max(similaridade)\n",
        "\n",
        "                    if (max_value >= threshold):\n",
        "                        paises_detectados.append(pais)\n",
        "                        tem_historico = 1\n",
        "\n",
        "                    else:\n",
        "                        print(\"==================\")\n",
        "\n",
        "                    # nao eh ies\n",
        "\n",
        "        #print(\"==================\")\n",
        "    return tem_historico, paises_detectados\n",
        "\n",
        "df_doutores['ListaHistoricoFiliacoesEmIESInternacional'] = ''\n",
        "df_doutores['HistoricoFiliacoesEmIESInternacional'], df_doutores['ListaHistoricoFiliacoesEmIESInternacional'] = df_doutores[\"ListaFiliacoes\"].apply(lambda x: metodo1(x))"
      ],
      "metadata": {
        "id": "UxCAXynIoLj_"
      },
      "execution_count": null,
      "outputs": []
    },
    {
      "cell_type": "code",
      "source": [],
      "metadata": {
        "id": "dOBcI5ULt3xO"
      },
      "execution_count": null,
      "outputs": []
    },
    {
      "cell_type": "code",
      "source": [
        "df_doutores['ListaHistoricoFiliacoesEmIESInternacional']"
      ],
      "metadata": {
        "id": "pgmFRM6zq5Ht"
      },
      "execution_count": null,
      "outputs": []
    },
    {
      "cell_type": "markdown",
      "source": [
        "# Export\n"
      ],
      "metadata": {
        "id": "J4smhq2B4_yK"
      }
    },
    {
      "cell_type": "code",
      "source": [
        "df['PrimeiraArea'] = df['GrandesAreas'].str.split(';').str[0]\n",
        "df['PrimeiraArea']\n",
        "\n",
        "# Create a mapping dictionary\n",
        "unique_areas = df['PrimeiraArea'].unique()\n",
        "area_to_numeric = {area: idx for idx, area in enumerate(unique_areas)}\n",
        "\n",
        "# Map the areas to numeric values\n",
        "df['PrimeiraAreaNumeric'] = df['PrimeiraArea'].map(area_to_numeric)\n",
        "\n",
        "print(area_to_numeric)"
      ],
      "metadata": {
        "id": "nbUeIw_gPLou"
      },
      "execution_count": null,
      "outputs": []
    },
    {
      "cell_type": "code",
      "source": [
        "df_doutores['ExclusividadeDoutorado'] = df_doutores['ExclusividadeDoutorado'].astype(float).astype(int)\n",
        "df_doutores['Genero'] = df_doutores['Genero'].astype(float).astype(int)\n",
        "\n",
        "df_doutores = df_doutores.astype({\n",
        "    'IDLattes': int,\n",
        "    'DuracaoDoutorado': float,\n",
        "    'Genero': int,\n",
        "    'GrandesAreas': str,\n",
        "    'ExclusividadeDoutorado': int,\n",
        "    'Publicacoes': float,\n",
        "    'IdadeAcademica': str,\n",
        "    'HistoricoFiliacoesEmIESInternacional': str,\n",
        "    'UltimaFiliacaoEmIES': int,\n",
        "    'ListaHistoricoFiliacoesEmIESInternacional': str\n",
        "})\n",
        "\n",
        "#    'ListaFiliacoes': str,\n",
        "#    'UltimaFiliacao': str,\n",
        "\n",
        "df_doutores.to_csv('doutores_processado_2000_zhong.csv')"
      ],
      "metadata": {
        "id": "c4Hatxih5CNb"
      },
      "execution_count": null,
      "outputs": []
    },
    {
      "cell_type": "code",
      "source": [
        "df_doutores['ExclusividadeDoutorado'].isna().count()"
      ],
      "metadata": {
        "id": "MOb8pS5ApMsZ"
      },
      "execution_count": null,
      "outputs": []
    },
    {
      "cell_type": "markdown",
      "source": [
        "# Analise"
      ],
      "metadata": {
        "id": "B4UkQtzMCf9m"
      }
    },
    {
      "cell_type": "code",
      "source": [
        "# df_doutores_processado = pd.read_csv('doutores_processado.csv', encoding='UTF-8')"
      ],
      "metadata": {
        "id": "2oHgs3TFXOMX"
      },
      "execution_count": null,
      "outputs": []
    },
    {
      "cell_type": "markdown",
      "source": [
        "## Corr"
      ],
      "metadata": {
        "id": "MYoYC5WJJ8a5"
      }
    },
    {
      "cell_type": "code",
      "source": [
        "import matplotlib.pyplot as plt\n",
        "\n",
        "df_doutores_filtered = df_doutores[['DuracaoDoutorado', 'Publicacoes', 'IdadeAcademica', 'HistoricoFiliacoesEmIESInternacional', 'UltimaFiliacaoEmIES']]\n",
        "\n",
        "rs = np.random.RandomState(0)\n",
        "df = pd.DataFrame(rs.rand(10, 10))\n",
        "corr = df_doutores_filtered.corr()\n",
        "corr.style.background_gradient(cmap='coolwarm')"
      ],
      "metadata": {
        "id": "DBapAssOCiYy"
      },
      "execution_count": null,
      "outputs": []
    },
    {
      "cell_type": "markdown",
      "source": [
        "## Gower + Kmedoids"
      ],
      "metadata": {
        "id": "ZggpFq-oJ7Au"
      }
    },
    {
      "cell_type": "code",
      "source": [
        "import gower\n",
        "import pandas as pd\n",
        "from sklearn_extra.cluster import KMedoids\n",
        "from matplotlib import pyplot as plt\n",
        "from sklearn.decomposition import PCA\n",
        "\n",
        "# Gower distance\n",
        "gower_dist = gower.gower_matrix(df_doutores_filtered)\n",
        "\n",
        "# K-Medoids\n",
        "kmedoids = KMedoids(n_clusters=3, metric='precomputed', method='pam', random_state=0)\n",
        "kmedoids.fit(gower_dist)\n",
        "labels = kmedoids.labels_\n",
        "\n",
        "# Plot\n",
        "pca = PCA(n_components=2)\n",
        "doutores_pca = pca.fit_transform(gower_dist)\n",
        "\n",
        "plt.figure(figsize=(8, 6))\n",
        "scatter = plt.scatter(doutores_pca[:, 0], doutores_pca[:, 1], c=labels, cmap='viridis', s=50)\n",
        "plt.title(\"Cluster Plot\")\n",
        "plt.xlabel(\"PCA Component 1\")\n",
        "plt.ylabel(\"PCA Component 2\")\n",
        "plt.colorbar(scatter, label='Cluster Label')\n",
        "plt.show()"
      ],
      "metadata": {
        "id": "WoxfQdiJX_Lu"
      },
      "execution_count": null,
      "outputs": []
    },
    {
      "cell_type": "markdown",
      "source": [
        "## Logit"
      ],
      "metadata": {
        "id": "AtUZmi8tYzkd"
      }
    },
    {
      "cell_type": "code",
      "source": [
        "import pandas as pd\n",
        "from pandas import DataFrame\n",
        "from sklearn.model_selection import train_test_split\n",
        "from sklearn.linear_model import LogisticRegression\n",
        "from sklearn.metrics import precision_recall_fscore_support\n",
        "\n",
        "def regressao_logistica(X, y):\n",
        "\n",
        "    X_train, X_test, y_train, y_test = train_test_split(X, y, test_size=0.4, random_state=42)\n",
        "\n",
        "    model = LogisticRegression(max_iter=1000)\n",
        "    model.fit(X_train, y_train.values.ravel())\n",
        "\n",
        "    y_pred = model.predict(X_test)\n",
        "\n",
        "    # resultado\n",
        "    p,r,f,_none = precision_recall_fscore_support(y_test, y_pred, average='micro')\n",
        "    print('P =',\"{:2.2f}\".format(p).replace(\".\",\",\"),end='')\n",
        "    print('  R =',\"{:2.2f}\".format(r).replace(\".\",\",\"),end='')\n",
        "    print('  F =',\"{:2.2f}\".format(f).replace(\".\",\",\"))"
      ],
      "metadata": {
        "id": "mKgcQWXgYy_p"
      },
      "execution_count": null,
      "outputs": []
    },
    {
      "cell_type": "code",
      "source": [
        "# DuracaoDoutorado\n",
        "\n",
        "regressao_logistica(df_doutores_filtered[['IdadeAcademica', 'Publicacoes', 'HistoricoFiliacoesEmIESInternacional', 'UltimaFiliacaoEmIES']],\n",
        "                    df_doutores_filtered[['DuracaoDoutorado']])"
      ],
      "metadata": {
        "id": "DPcyUB8SaJ-l"
      },
      "execution_count": null,
      "outputs": []
    },
    {
      "cell_type": "code",
      "source": [
        "# IdadeAcademica\n",
        "\n",
        "regressao_logistica(df_doutores_filtered[['DuracaoDoutorado', 'Publicacoes', 'HistoricoFiliacoesEmIESInternacional', 'UltimaFiliacaoEmIES']],\n",
        "                    df_doutores_filtered[['IdadeAcademica']])"
      ],
      "metadata": {
        "id": "SL4_VW1Bt5b-"
      },
      "execution_count": null,
      "outputs": []
    },
    {
      "cell_type": "code",
      "source": [
        "# Publicacoes\n",
        "\n",
        "regressao_logistica(df_doutores_filtered[['DuracaoDoutorado', 'IdadeAcademica', 'HistoricoFiliacoesEmIESInternacional', 'UltimaFiliacaoEmIES']],\n",
        "                    df_doutores_filtered[['Publicacoes']])"
      ],
      "metadata": {
        "id": "bFwu22Pgt5eI"
      },
      "execution_count": null,
      "outputs": []
    }
  ]
}