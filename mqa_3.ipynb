{
  "nbformat": 4,
  "nbformat_minor": 0,
  "metadata": {
    "colab": {
      "provenance": [],
      "collapsed_sections": [
        "fbmdA53gU3ba",
        "gNwtQBngEeBC",
        "I-gS3KjqVNgI",
        "KqyoviZReqt5"
      ]
    },
    "kernelspec": {
      "name": "python3",
      "display_name": "Python 3"
    },
    "language_info": {
      "name": "python"
    }
  },
  "cells": [
    {
      "cell_type": "markdown",
      "source": [
        "# INTRO"
      ],
      "metadata": {
        "id": "4DViQxkNK2Sq"
      }
    },
    {
      "cell_type": "code",
      "execution_count": null,
      "metadata": {
        "id": "FpXs0hX-KyRU"
      },
      "outputs": [],
      "source": [
        "from google.colab import drive\n",
        "import os\n",
        "\n",
        "import pandas as pd\n",
        "import numpy as np\n",
        "\n",
        "drive.mount('/content/gdrive')\n",
        "os.chdir('/content/gdrive/My Drive/USP/2024_2º/MQA/')\n",
        "\n",
        "pd.set_option('display.max_rows', 6)\n",
        "pd.set_option('display.max_columns', None)"
      ]
    },
    {
      "cell_type": "markdown",
      "source": [
        "# IMPORT CSV _ lista de doutores"
      ],
      "metadata": {
        "id": "k2pylB0NK42F"
      }
    },
    {
      "cell_type": "code",
      "source": [
        "df = pd.read_csv('doutoresFeaturesParte_1.csv', encoding='UTF-8', nrows=500) #, dtype=str, nrows=1000)\n",
        "\n",
        "df = df.fillna(' ')\n",
        "\n",
        "df = df.astype({\n",
        "    'IDLattes': int,\n",
        "    'DuracaoDoutorado': float,\n",
        "    'Genero': str,\n",
        "    'GrandesAreas': str,\n",
        "    'ExclusividadeDoutorado': str,\n",
        "    'Publicacoes': float,\n",
        "    'IdadeAcademica': str,\n",
        "    'ListaFiliacoes': str,\n",
        "    'UltimaFiliacao': str,\n",
        "})\n",
        "\n",
        "df_doutores = df.copy(deep=True)\n",
        "df_doutores\n",
        "\n",
        "# Nova Coluna com Resultado\n",
        "df_doutores['HistoricoFiliacoesEmIESInternacional'] = ''\n",
        "df_doutores['UltimaFiliacaoEmIES'] = ''"
      ],
      "metadata": {
        "id": "0zpUlDgvK4iR"
      },
      "execution_count": null,
      "outputs": []
    },
    {
      "cell_type": "markdown",
      "source": [
        "# IMPORT CSV _ IES Brasil"
      ],
      "metadata": {
        "id": "fbmdA53gU3ba"
      }
    },
    {
      "cell_type": "code",
      "source": [
        "# LISTA DE IES NACIONAIS\n",
        "# https://dadosabertos.mec.gov.br/indicadores-sobre-ensino-superior/item/181-instituicoes-de-educacao-superior-do-brasil\n",
        "# https://dadosabertos.mec.gov.br/images/conteudo/Ind-ensino-superior/2022/PDA_Lista_Instituicoes_Ensino_Superior_do_Brasil_EMEC.csv\n",
        "\n",
        "df_uni_br = pd.read_csv('sup.csv', encoding='UTF-8')\n",
        "df_uni_br = df_uni_br[['NOME_DA_IES', 'SIGLA']]\n",
        "df_uni_br = df_uni_br.fillna('')\n",
        "df_uni_br = df_uni_br.sort_values(['NOME_DA_IES'], ascending=False)\n",
        "df_uni_br"
      ],
      "metadata": {
        "id": "B7KOmZ6yLXgB",
        "collapsed": true
      },
      "execution_count": null,
      "outputs": []
    },
    {
      "cell_type": "markdown",
      "source": [
        "# IMPORT CSV _ IES Mundial"
      ],
      "metadata": {
        "id": "gNwtQBngEeBC"
      }
    },
    {
      "cell_type": "code",
      "source": [
        "# Lista de IES Mundial\n",
        "# https://zenodo.org/records/13965926\n",
        "# https://zenodo.org/records/13965926\n",
        "\n",
        "df_uni_world = pd.read_csv('ror.csv', encoding='UTF-8')\n",
        "\n",
        "df_uni_world = df_uni_world[['name', 'aliases', 'acronyms', 'country.country_code']]\n",
        "df_uni_world = df_uni_world.rename(columns={\n",
        "    'country.country_code': 'PAIS',\n",
        "    'name': 'NOME_DA_IES',\n",
        "    'acronyms': 'SIGLA',\n",
        "    'aliases': 'ALIASES'\n",
        "})\n",
        "\n",
        "# IES BR foram removidos pois os nomes não estão em inglês e assim ficaria duplicado em relação a dataset do MEC\n",
        "df_uni_world = df_uni_world[df_uni_world['PAIS'] != 'BR']\n",
        "\n",
        "df_uni_world = df_uni_world.fillna('')\n",
        "\n",
        "df_uni_world"
      ],
      "metadata": {
        "id": "zkBxwPYIEb2W"
      },
      "execution_count": null,
      "outputs": []
    },
    {
      "cell_type": "markdown",
      "source": [
        "# PRE-PROCESSAMENTO"
      ],
      "metadata": {
        "id": "I-gS3KjqVNgI"
      }
    },
    {
      "cell_type": "code",
      "source": [
        "def clean_names(df, column_name, remove_semicolon=True):\n",
        "\n",
        "    # Remover '&'\n",
        "    df[column_name] = df[column_name].replace('&AMP;', ' ', regex=True)\n",
        "\n",
        "    # Remover todos os caracteres nao alfa-numericos, exceto whitespace e ;\n",
        "    if remove_semicolon:\n",
        "        df[column_name] = df[column_name].str.replace('[^\\w\\s]', ' ', regex=True)\n",
        "    else:\n",
        "        df[column_name] = df[column_name].str.replace('[^\\w\\s;]', ' ', regex=True)\n",
        "\n",
        "    # Normalizar a string\n",
        "    df[column_name] = df[column_name].str.normalize('NFKD').str.encode('ascii', errors='ignore').str.decode('utf-8')\n",
        "\n",
        "    # Remover stopwords\n",
        "    stop = ['DO', 'DA', 'DE', 'E']\n",
        "    df[column_name] = df[column_name].apply(lambda x: ' '.join([word for word in x.split() if word not in (stop)]))\n",
        "\n",
        "    # Strip whitespace\n",
        "    df[column_name] = df[column_name].apply(lambda x: x.strip())\n",
        "\n",
        "    return df"
      ],
      "metadata": {
        "id": "PrVp79lMVPLh"
      },
      "execution_count": null,
      "outputs": []
    },
    {
      "cell_type": "code",
      "source": [
        "df_doutores = df_doutores.apply(lambda x:x.astype(str).str.upper())\n",
        "df_doutores = clean_names(df_doutores, 'ListaFiliacoes', False)\n",
        "df_doutores = clean_names(df_doutores, 'UltimaFiliacao', False)\n",
        "\n",
        "df_uni_br = df_uni_br.apply(lambda x:x.astype(str).str.upper())\n",
        "df_uni_br = clean_names(df_uni_br, 'NOME_DA_IES')"
      ],
      "metadata": {
        "id": "1_zyGXunVXes"
      },
      "execution_count": null,
      "outputs": []
    },
    {
      "cell_type": "code",
      "source": [
        "# Split lista de IES por inicio do nome\n",
        "df_uni_br.sort_values(by=[\"NOME_DA_IES\"], ascending=True)\n",
        "\n",
        "df_uni_outros = df_uni_br.copy(deep=True)\n",
        "\n",
        "df_uni_instituto = df_uni_outros[df_uni_outros['NOME_DA_IES'].str.contains('INSTITUTO')]\n",
        "df_uni_outros.drop(df_uni_outros[df_uni_outros['NOME_DA_IES'].str.contains('INSTITUTO')].index, inplace=True)\n",
        "\n",
        "df_uni_faculdades = df_uni_outros[df_uni_outros['NOME_DA_IES'].str.contains('FACULDADE')]\n",
        "df_uni_outros.drop(df_uni_outros[df_uni_outros['NOME_DA_IES'].str.contains('FACULDADE')].index, inplace=True)\n",
        "\n",
        "df_uni_escola = df_uni_outros[df_uni_outros['NOME_DA_IES'].str.contains('ESCOLA')]\n",
        "df_uni_outros.drop(df_uni_outros[df_uni_outros['NOME_DA_IES'].str.contains('ESCOLA')].index, inplace=True)\n",
        "\n",
        "df_uni_universidade = df_uni_outros[df_uni_outros['NOME_DA_IES'].str.contains('UNIVERSIDADE')]\n",
        "df_uni_outros.drop(df_uni_outros[df_uni_outros['NOME_DA_IES'].str.contains('UNIVERSIDADE')].index, inplace=True)\n",
        "\n",
        "df_uni_instituicao = df_uni_outros[df_uni_outros['NOME_DA_IES'].str.contains('INSTITUICAO')]\n",
        "df_uni_outros.drop(df_uni_outros[df_uni_outros['NOME_DA_IES'].str.contains('INSTITUICAO')].index, inplace=True)\n",
        "\n",
        "# List\n",
        "# df_uni_outros, df_uni_instituto, df_uni_faculdades, df_uni_escola, df_uni_universidade, df_uni_instituicao"
      ],
      "metadata": {
        "id": "_hELLPGIV3K2"
      },
      "execution_count": null,
      "outputs": []
    },
    {
      "cell_type": "markdown",
      "source": [
        "# Merge IES df"
      ],
      "metadata": {
        "id": "KqyoviZReqt5"
      }
    },
    {
      "cell_type": "code",
      "source": [
        "df_uni_br['PAIS'] = 'BR'\n",
        "df_uni_br['ALIASES'] = ''\n",
        "\n",
        "print( (df_uni_world.shape[0] + df_uni_br.shape[0]), ' = ', df_uni_world.shape[0], ' + ', df_uni_br.shape[0])\n",
        "\n",
        "df_uni = pd.concat([df_uni_br, df_uni_world])\n",
        "df_uni"
      ],
      "metadata": {
        "collapsed": true,
        "id": "kLu9Ckn6epiB"
      },
      "execution_count": null,
      "outputs": []
    },
    {
      "cell_type": "markdown",
      "source": [
        "# PLN"
      ],
      "metadata": {
        "id": "uUDVZhC1V5i0"
      }
    },
    {
      "cell_type": "markdown",
      "source": [
        "## TF_IDF"
      ],
      "metadata": {
        "id": "NYEF_O3SK86x"
      }
    },
    {
      "cell_type": "code",
      "source": [
        "import re\n",
        "\n",
        "def get_uni_list_df(nome_instituicao):\n",
        "    if 'INSTITUTO' in nome_instituicao:\n",
        "        return df_uni_instituto, tfidf_matrix_instituto\n",
        "    elif 'FACULDADE' in nome_instituicao:\n",
        "        return df_uni_faculdades, tfidf_matrix_faculdades\n",
        "    elif 'ESCOLA' in nome_instituicao:\n",
        "        return df_uni_escola, tfidf_matrix_escola\n",
        "    elif 'UNIVERSIDADE' in nome_instituicao:\n",
        "        return df_uni_universidade, tfidf_matrix_universidade\n",
        "    elif 'INSTITUICAO' in nome_instituicao:\n",
        "        return df_uni_instituicao, tfidf_matrix_instituicao\n",
        "\n",
        "    return df_uni_outros, tfidf_matrix_outros\n",
        "\n",
        "\n",
        "def iterate_sigla(nome_instituicao):\n",
        "\n",
        "    lista = df_uni[\"SIGLA\"].apply(lambda x: True if x in nome_instituicao else False)\n",
        "    siglas_encontradas = df_uni[lista]\n",
        "\n",
        "    if siglas_encontradas.empty:\n",
        "        return ''\n",
        "    else:\n",
        "        return siglas_encontradas['SIGLA'][0], siglas_encontradas['PAIS'][0]"
      ],
      "metadata": {
        "id": "Gxpp_ZSxV6Ki"
      },
      "execution_count": null,
      "outputs": []
    },
    {
      "cell_type": "code",
      "source": [
        "from sklearn.feature_extraction.text import TfidfVectorizer\n",
        "from sklearn.metrics.pairwise import cosine_similarity\n",
        "\n",
        "# Vetorização TF-IDF : Lista IES Brasil\n",
        "vectorizer_b = TfidfVectorizer().fit(df_uni_br['NOME_DA_IES'])\n",
        "tfidf_matrix_universidades = vectorizer_b.transform(df_uni_br['NOME_DA_IES']) # geral\n",
        "tfidf_matrix_instituto = vectorizer_b.transform(df_uni_instituto['NOME_DA_IES'])\n",
        "tfidf_matrix_faculdades = vectorizer_b.transform(df_uni_faculdades['NOME_DA_IES'])\n",
        "tfidf_matrix_escola = vectorizer_b.transform(df_uni_escola['NOME_DA_IES'])\n",
        "tfidf_matrix_universidade = vectorizer_b.transform(df_uni_universidade['NOME_DA_IES'])\n",
        "tfidf_matrix_instituicao = vectorizer_b.transform(df_uni_instituicao['NOME_DA_IES'])\n",
        "tfidf_matrix_outros = vectorizer_b.transform(df_uni_outros['NOME_DA_IES'])\n",
        "\n",
        "# Vetorização TF-IDF : Lista IES Mundial\n",
        "vectorizer_w = TfidfVectorizer().fit(df_uni_world['NOME_DA_IES'])\n",
        "tfidf_matrix_world = vectorizer_w.transform(df_uni_world['NOME_DA_IES'])"
      ],
      "metadata": {
        "id": "N1wmcCYtYhL9"
      },
      "execution_count": null,
      "outputs": []
    },
    {
      "cell_type": "markdown",
      "source": [
        "## UltimaFiliacaoEmIES"
      ],
      "metadata": {
        "id": "8mv5gu-FLTuR"
      }
    },
    {
      "cell_type": "code",
      "source": [
        "threshold = 0.8\n",
        "\n",
        "def metodo1(nomes_instituicoes):\n",
        "\n",
        "    if nomes_instituicoes:\n",
        "\n",
        "        nomes_instituicoes_split = str(nomes_instituicoes).split(';')\n",
        "\n",
        "        for nome_instituicao in nomes_instituicoes_split:\n",
        "\n",
        "            nome_instituicao = nome_instituicao.strip()\n",
        "\n",
        "            print(nome_instituicao)\n",
        "\n",
        "            # Ver se contém a sigla\n",
        "            sigla_detectado, _ = iterate_sigla(nome_instituicao)\n",
        "            if sigla_detectado:\n",
        "                print(\"sigla detectado : \", sigla_detectado)\n",
        "                print(\"==================\")\n",
        "                return '1'\n",
        "\n",
        "            # Se nao contem a sigla, procurar por nome completo\n",
        "            else:\n",
        "                vector_comparacao = vectorizer_b.transform([nome_instituicao])\n",
        "\n",
        "                uni_list_df, tfidf_matrix_df = get_uni_list_df(nome_instituicao)\n",
        "\n",
        "                similaridade = cosine_similarity(vector_comparacao, tfidf_matrix_df)\n",
        "\n",
        "                max_value = np.max(similaridade)\n",
        "                max_index = np.argmax(similaridade)\n",
        "\n",
        "                nome_detectado = uni_list_df.iloc[max_index]['NOME_DA_IES']\n",
        "\n",
        "                if (max_value >= threshold):\n",
        "                    print(\"nome detectado : \", nome_detectado, max_value)\n",
        "                    print(\"==================\")\n",
        "                    return '1'\n",
        "\n",
        "                # se nao achou nenhuma ies br, procurar ies estrangeira\n",
        "                else:\n",
        "                    vector_comparacao = vectorizer_w.transform([nome_instituicao])\n",
        "                    uni_list_df, tfidf_matrix_df = df_uni_world, tfidf_matrix_world\n",
        "                    similaridade = cosine_similarity(vector_comparacao, tfidf_matrix_df)\n",
        "\n",
        "                    max_value = np.max(similaridade)\n",
        "                    max_index = np.argmax(similaridade)\n",
        "\n",
        "                    nome_detectado = uni_list_df.iloc[max_index]['NOME_DA_IES']\n",
        "\n",
        "                    if (max_value >= threshold):\n",
        "                        print(\"nome detectado : \", nome_detectado, max_value)\n",
        "                        print(\"==================\")\n",
        "                        return '1'\n",
        "\n",
        "                    else:\n",
        "                        print(\"==================\")\n",
        "\n",
        "                    # se nao passar no threshold, so lamento\n",
        "\n",
        "        print(\"==================\")\n",
        "    return '0'\n",
        "\n",
        "df_doutores['UltimaFiliacaoEmIES'] = df_doutores[\"UltimaFiliacao\"].apply(lambda x: metodo1(x))"
      ],
      "metadata": {
        "id": "4XZUgMHwYAxd",
        "collapsed": true
      },
      "execution_count": null,
      "outputs": []
    },
    {
      "cell_type": "markdown",
      "source": [
        "## HistoricoFiliacoesEmIESInternacional"
      ],
      "metadata": {
        "id": "yQyIInfKoP8E"
      }
    },
    {
      "cell_type": "code",
      "source": [
        "def metodo1(nomes_instituicoes):\n",
        "\n",
        "    if nomes_instituicoes:\n",
        "\n",
        "        nomes_instituicoes_split = str(nomes_instituicoes).split(';')\n",
        "\n",
        "        for nome_instituicao in nomes_instituicoes_split:\n",
        "\n",
        "            nome_instituicao = nome_instituicao.strip()\n",
        "\n",
        "            print(nome_instituicao)\n",
        "\n",
        "            # Ver se contém a sigla\n",
        "            sigla_detectado, pais = iterate_sigla(nome_instituicao)\n",
        "            if pais != 'BR':\n",
        "                print(\"sigla estrangeira detectado : \", sigla_detectado)\n",
        "                print(\"==================\")\n",
        "                return '1'\n",
        "\n",
        "            # Se nao contem a sigla, procurar por nome completo\n",
        "            else:\n",
        "                vector_comparacao = vectorizer_b.transform([nome_instituicao])\n",
        "\n",
        "                uni_list_df, tfidf_matrix_df = get_uni_list_df(nome_instituicao)\n",
        "\n",
        "                similaridade = cosine_similarity(vector_comparacao, tfidf_matrix_df)\n",
        "\n",
        "                max_value = np.max(similaridade)\n",
        "                max_index = np.argmax(similaridade)\n",
        "\n",
        "                nome_detectado = uni_list_df.iloc[max_index]['NOME_DA_IES']\n",
        "\n",
        "                if (max_value >= threshold):\n",
        "                    print(\"nome detectado : \", nome_detectado, max_value)\n",
        "                    print(\"==================\")\n",
        "\n",
        "                # se nao achou nenhuma ies br, procurar ies estrangeira\n",
        "                else:\n",
        "                    vector_comparacao = vectorizer_w.transform([nome_instituicao])\n",
        "                    uni_list_df, tfidf_matrix_df = df_uni_world, tfidf_matrix_world\n",
        "                    similaridade = cosine_similarity(vector_comparacao, tfidf_matrix_df)\n",
        "\n",
        "                    max_value = np.max(similaridade)\n",
        "                    max_index = np.argmax(similaridade)\n",
        "\n",
        "                    nome_detectado = uni_list_df.iloc[max_index]['NOME_DA_IES']\n",
        "\n",
        "                    if (max_value >= threshold):\n",
        "                        print(\"nome estrangeiro detectado : \", nome_detectado, max_value)\n",
        "                        print(\"==================\")\n",
        "                        return '1'\n",
        "\n",
        "                    else:\n",
        "                        print(\"==================\")\n",
        "\n",
        "                    # se nao passar no threshold, so lamento\n",
        "\n",
        "        print(\"==================\")\n",
        "    return '0'\n",
        "\n",
        "df_doutores['HistoricoFiliacoesEmIESInternacional'] = df_doutores[\"ListaFiliacoes\"].apply(lambda x: metodo1(x))"
      ],
      "metadata": {
        "id": "UxCAXynIoLj_"
      },
      "execution_count": null,
      "outputs": []
    },
    {
      "cell_type": "code",
      "source": [
        "df_doutores"
      ],
      "metadata": {
        "id": "pgmFRM6zq5Ht"
      },
      "execution_count": null,
      "outputs": []
    },
    {
      "cell_type": "markdown",
      "source": [
        "# Export\n"
      ],
      "metadata": {
        "id": "J4smhq2B4_yK"
      }
    },
    {
      "cell_type": "code",
      "source": [
        "'''\n",
        "df = df.astype({\n",
        "    'IDLattes': int,\n",
        "    'DuracaoDoutorado': float,\n",
        "    'Genero': str,\n",
        "    'GrandesAreas': str,\n",
        "    'ExclusividadeDoutorado': str,\n",
        "    'Publicacoes': float,\n",
        "    'IdadeAcademica': str,\n",
        "    'ListaFiliacoes': str,\n",
        "    'UltimaFiliacao': str,\n",
        "    'HistoricoFiliacoesEmIESInternacional': int,\n",
        "    'UltimaFiliacaoEmIES': int,\n",
        "})\n",
        "\n",
        "df_doutores.to_csv('doutores_processado.csv')\n",
        "'''"
      ],
      "metadata": {
        "id": "c4Hatxih5CNb"
      },
      "execution_count": null,
      "outputs": []
    },
    {
      "cell_type": "code",
      "source": [
        "pd.set_option('display.max_rows', None)\n",
        "pd.set_option('display.max_columns', None)\n",
        "\n",
        "df_doutores.isna().sum()"
      ],
      "metadata": {
        "id": "d9iflNg0Zo07"
      },
      "execution_count": null,
      "outputs": []
    }
  ]
}