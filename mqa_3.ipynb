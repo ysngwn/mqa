{
  "nbformat": 4,
  "nbformat_minor": 0,
  "metadata": {
    "colab": {
      "provenance": [],
      "collapsed_sections": [
        "4DViQxkNK2Sq",
        "fbmdA53gU3ba",
        "gNwtQBngEeBC",
        "I-gS3KjqVNgI",
        "KqyoviZReqt5",
        "8mv5gu-FLTuR",
        "MYoYC5WJJ8a5",
        "ZggpFq-oJ7Au"
      ]
    },
    "kernelspec": {
      "name": "python3",
      "display_name": "Python 3"
    },
    "language_info": {
      "name": "python"
    }
  },
  "cells": [
    {
      "cell_type": "markdown",
      "source": [
        "# INTRO"
      ],
      "metadata": {
        "id": "4DViQxkNK2Sq"
      }
    },
    {
      "cell_type": "code",
      "execution_count": null,
      "metadata": {
        "id": "FpXs0hX-KyRU"
      },
      "outputs": [],
      "source": [
        "from google.colab import drive\n",
        "import os\n",
        "\n",
        "import pandas as pd\n",
        "import numpy as np\n",
        "import re\n",
        "\n",
        "drive.mount('/content/gdrive')\n",
        "os.chdir('/content/gdrive/My Drive/USP/2024_2º/MQA/')\n",
        "\n",
        "pd.set_option('display.max_rows', 6)\n",
        "pd.set_option('display.max_columns', None)"
      ]
    },
    {
      "cell_type": "markdown",
      "source": [
        "# IMPORT CSV _ lista de doutores"
      ],
      "metadata": {
        "id": "k2pylB0NK42F"
      }
    },
    {
      "cell_type": "code",
      "source": [
        "#df = pd.read_csv('doutoresFeaturesParte_1.csv', encoding='UTF-8', nrows=37717)\n",
        "df = pd.read_csv('doutores_processado_2000_zhong.csv', encoding='UTF-8')\n",
        "\n",
        "df.dropna(subset=[\"GrandesAreas\"], inplace=True)\n",
        "df.dropna(subset=[\"Genero\"], inplace=True)\n",
        "df.dropna(subset=[\"ExclusividadeDoutorado\"], inplace=True)\n",
        "\n",
        "\n",
        "df = df.fillna(' ')\n",
        "\n",
        "df = df.astype({\n",
        "    'IDLattes': int,\n",
        "    'DuracaoDoutorado': float,\n",
        "    'Genero': str,\n",
        "    'GrandesAreas': str,\n",
        "    'ExclusividadeDoutorado': str,\n",
        "    'Publicacoes': float,\n",
        "    'IdadeAcademica': str,\n",
        "    'ListaFiliacoes': str,\n",
        "    'UltimaFiliacao': str,\n",
        "})\n",
        "\n",
        "df_doutores = df.copy(deep=True)\n",
        "df_doutores\n",
        "\n",
        "# Nova Coluna com Resultado\n",
        "df_doutores['HistoricoFiliacoesEmIESInternacional'] = ''\n",
        "#df_doutores['UltimaFiliacaoEmIES'] = ''"
      ],
      "metadata": {
        "id": "1PKV4uL8h2u3"
      },
      "execution_count": 152,
      "outputs": []
    },
    {
      "cell_type": "code",
      "source": [
        "df_doutores"
      ],
      "metadata": {
        "colab": {
          "base_uri": "https://localhost:8080/",
          "height": 682
        },
        "id": "ZvaBg_fa6b2E",
        "outputId": "c1a7ed0e-fbe6-498d-c7cb-5fdd8c561013"
      },
      "execution_count": 153,
      "outputs": [
        {
          "output_type": "execute_result",
          "data": {
            "text/plain": [
              "      Unnamed: 0          IDLattes  DuracaoDoutorado Genero  \\\n",
              "0          37715  1000020883210065               6.0      0   \n",
              "1          37716  1000077717733917               5.0      0   \n",
              "2          37717  1000138998094231               4.0      0   \n",
              "...          ...               ...               ...    ...   \n",
              "1160       38996  1033412105460736               4.0      1   \n",
              "1161       38998  1033438528417911               4.0      1   \n",
              "1162       38999  1033484010955706               6.0      0   \n",
              "\n",
              "                                 GrandesAreas ExclusividadeDoutorado  \\\n",
              "0                         CIENCIAS BIOLOGICAS                      1   \n",
              "1     CIENCIAS EXATAS E DA TERRA; ENGENHARIAS                      0   \n",
              "2     CIENCIAS EXATAS E DA TERRA; ENGENHARIAS                      1   \n",
              "...                                       ...                    ...   \n",
              "1160                         CIENCIAS HUMANAS                      0   \n",
              "1161   CIENCIAS BIOLOGICAS; CIENCIAS DA SAUDE                      1   \n",
              "1162  CIENCIAS EXATAS E DA TERRA; ENGENHARIAS                      0   \n",
              "\n",
              "      Publicacoes IdadeAcademica  \\\n",
              "0             9.0           14.0   \n",
              "1             2.0            5.0   \n",
              "2             1.0            7.0   \n",
              "...           ...            ...   \n",
              "1160         15.0           12.0   \n",
              "1161         18.0            7.0   \n",
              "1162          1.0           20.0   \n",
              "\n",
              "                                         ListaFiliacoes  \\\n",
              "0     CENTRO MARS CIENCIA CACAU; CONSELHO NACIONAL D...   \n",
              "1     RENAULT BRASIL SA; UNIVERSIDADE TECNOLOGICA FE...   \n",
              "2     ESCOLA ESTADUAL PROFESSOR JOSE VASQUES FERRARI...   \n",
              "...                                                 ...   \n",
              "1160  UNIVERSIDADE SAO PAULO; UNIVERSIDADE VIRTUAL E...   \n",
              "1161  UNIVERSIDADE ESTADUAL PAULISTA JULIO MESQUITA ...   \n",
              "1162  INSTITUTO RADIOPROTECAO DOSIMETRIA; INSTITUTO ...   \n",
              "\n",
              "                                         UltimaFiliacao  \\\n",
              "0                                                         \n",
              "1                                 UNIVERSIDADE POSITIVO   \n",
              "2          ESCOLA ESTADUAL SIMPLICIANO CAMPOLIM ALMEIDA   \n",
              "...                                                 ...   \n",
              "1160  REVISTA LATINOAMERICANA CIENCIAS SOCIAIS INFAN...   \n",
              "1161  UNIVERSIDADE ESTADUAL PAULISTA JULIO MESQUITA ...   \n",
              "1162                 INSTITUTO RADIOPROTECAO DOSIMETRIA   \n",
              "\n",
              "     HistoricoFiliacoesEmIESInternacional  UltimaFiliacaoEmIES  \\\n",
              "0                                                            0   \n",
              "1                                                            1   \n",
              "2                                                            0   \n",
              "...                                   ...                  ...   \n",
              "1160                                                         0   \n",
              "1161                                                         1   \n",
              "1162                                                         1   \n",
              "\n",
              "     ListaHistoricoFiliacoesEmIESInternacional  \n",
              "0                                               \n",
              "1                                               \n",
              "2                                               \n",
              "...                                        ...  \n",
              "1160                                            \n",
              "1161                                            \n",
              "1162                                            \n",
              "\n",
              "[1163 rows x 13 columns]"
            ],
            "text/html": [
              "\n",
              "  <div id=\"df-5ab5b7a9-ef5f-4e07-b5fc-e441abadb4b8\" class=\"colab-df-container\">\n",
              "    <div>\n",
              "<style scoped>\n",
              "    .dataframe tbody tr th:only-of-type {\n",
              "        vertical-align: middle;\n",
              "    }\n",
              "\n",
              "    .dataframe tbody tr th {\n",
              "        vertical-align: top;\n",
              "    }\n",
              "\n",
              "    .dataframe thead th {\n",
              "        text-align: right;\n",
              "    }\n",
              "</style>\n",
              "<table border=\"1\" class=\"dataframe\">\n",
              "  <thead>\n",
              "    <tr style=\"text-align: right;\">\n",
              "      <th></th>\n",
              "      <th>Unnamed: 0</th>\n",
              "      <th>IDLattes</th>\n",
              "      <th>DuracaoDoutorado</th>\n",
              "      <th>Genero</th>\n",
              "      <th>GrandesAreas</th>\n",
              "      <th>ExclusividadeDoutorado</th>\n",
              "      <th>Publicacoes</th>\n",
              "      <th>IdadeAcademica</th>\n",
              "      <th>ListaFiliacoes</th>\n",
              "      <th>UltimaFiliacao</th>\n",
              "      <th>HistoricoFiliacoesEmIESInternacional</th>\n",
              "      <th>UltimaFiliacaoEmIES</th>\n",
              "      <th>ListaHistoricoFiliacoesEmIESInternacional</th>\n",
              "    </tr>\n",
              "  </thead>\n",
              "  <tbody>\n",
              "    <tr>\n",
              "      <th>0</th>\n",
              "      <td>37715</td>\n",
              "      <td>1000020883210065</td>\n",
              "      <td>6.0</td>\n",
              "      <td>0</td>\n",
              "      <td>CIENCIAS BIOLOGICAS</td>\n",
              "      <td>1</td>\n",
              "      <td>9.0</td>\n",
              "      <td>14.0</td>\n",
              "      <td>CENTRO MARS CIENCIA CACAU; CONSELHO NACIONAL D...</td>\n",
              "      <td></td>\n",
              "      <td></td>\n",
              "      <td>0</td>\n",
              "      <td></td>\n",
              "    </tr>\n",
              "    <tr>\n",
              "      <th>1</th>\n",
              "      <td>37716</td>\n",
              "      <td>1000077717733917</td>\n",
              "      <td>5.0</td>\n",
              "      <td>0</td>\n",
              "      <td>CIENCIAS EXATAS E DA TERRA; ENGENHARIAS</td>\n",
              "      <td>0</td>\n",
              "      <td>2.0</td>\n",
              "      <td>5.0</td>\n",
              "      <td>RENAULT BRASIL SA; UNIVERSIDADE TECNOLOGICA FE...</td>\n",
              "      <td>UNIVERSIDADE POSITIVO</td>\n",
              "      <td></td>\n",
              "      <td>1</td>\n",
              "      <td></td>\n",
              "    </tr>\n",
              "    <tr>\n",
              "      <th>2</th>\n",
              "      <td>37717</td>\n",
              "      <td>1000138998094231</td>\n",
              "      <td>4.0</td>\n",
              "      <td>0</td>\n",
              "      <td>CIENCIAS EXATAS E DA TERRA; ENGENHARIAS</td>\n",
              "      <td>1</td>\n",
              "      <td>1.0</td>\n",
              "      <td>7.0</td>\n",
              "      <td>ESCOLA ESTADUAL PROFESSOR JOSE VASQUES FERRARI...</td>\n",
              "      <td>ESCOLA ESTADUAL SIMPLICIANO CAMPOLIM ALMEIDA</td>\n",
              "      <td></td>\n",
              "      <td>0</td>\n",
              "      <td></td>\n",
              "    </tr>\n",
              "    <tr>\n",
              "      <th>...</th>\n",
              "      <td>...</td>\n",
              "      <td>...</td>\n",
              "      <td>...</td>\n",
              "      <td>...</td>\n",
              "      <td>...</td>\n",
              "      <td>...</td>\n",
              "      <td>...</td>\n",
              "      <td>...</td>\n",
              "      <td>...</td>\n",
              "      <td>...</td>\n",
              "      <td>...</td>\n",
              "      <td>...</td>\n",
              "      <td>...</td>\n",
              "    </tr>\n",
              "    <tr>\n",
              "      <th>1160</th>\n",
              "      <td>38996</td>\n",
              "      <td>1033412105460736</td>\n",
              "      <td>4.0</td>\n",
              "      <td>1</td>\n",
              "      <td>CIENCIAS HUMANAS</td>\n",
              "      <td>0</td>\n",
              "      <td>15.0</td>\n",
              "      <td>12.0</td>\n",
              "      <td>UNIVERSIDADE SAO PAULO; UNIVERSIDADE VIRTUAL E...</td>\n",
              "      <td>REVISTA LATINOAMERICANA CIENCIAS SOCIAIS INFAN...</td>\n",
              "      <td></td>\n",
              "      <td>0</td>\n",
              "      <td></td>\n",
              "    </tr>\n",
              "    <tr>\n",
              "      <th>1161</th>\n",
              "      <td>38998</td>\n",
              "      <td>1033438528417911</td>\n",
              "      <td>4.0</td>\n",
              "      <td>1</td>\n",
              "      <td>CIENCIAS BIOLOGICAS; CIENCIAS DA SAUDE</td>\n",
              "      <td>1</td>\n",
              "      <td>18.0</td>\n",
              "      <td>7.0</td>\n",
              "      <td>UNIVERSIDADE ESTADUAL PAULISTA JULIO MESQUITA ...</td>\n",
              "      <td>UNIVERSIDADE ESTADUAL PAULISTA JULIO MESQUITA ...</td>\n",
              "      <td></td>\n",
              "      <td>1</td>\n",
              "      <td></td>\n",
              "    </tr>\n",
              "    <tr>\n",
              "      <th>1162</th>\n",
              "      <td>38999</td>\n",
              "      <td>1033484010955706</td>\n",
              "      <td>6.0</td>\n",
              "      <td>0</td>\n",
              "      <td>CIENCIAS EXATAS E DA TERRA; ENGENHARIAS</td>\n",
              "      <td>0</td>\n",
              "      <td>1.0</td>\n",
              "      <td>20.0</td>\n",
              "      <td>INSTITUTO RADIOPROTECAO DOSIMETRIA; INSTITUTO ...</td>\n",
              "      <td>INSTITUTO RADIOPROTECAO DOSIMETRIA</td>\n",
              "      <td></td>\n",
              "      <td>1</td>\n",
              "      <td></td>\n",
              "    </tr>\n",
              "  </tbody>\n",
              "</table>\n",
              "<p>1163 rows × 13 columns</p>\n",
              "</div>\n",
              "    <div class=\"colab-df-buttons\">\n",
              "\n",
              "  <div class=\"colab-df-container\">\n",
              "    <button class=\"colab-df-convert\" onclick=\"convertToInteractive('df-5ab5b7a9-ef5f-4e07-b5fc-e441abadb4b8')\"\n",
              "            title=\"Convert this dataframe to an interactive table.\"\n",
              "            style=\"display:none;\">\n",
              "\n",
              "  <svg xmlns=\"http://www.w3.org/2000/svg\" height=\"24px\" viewBox=\"0 -960 960 960\">\n",
              "    <path d=\"M120-120v-720h720v720H120Zm60-500h600v-160H180v160Zm220 220h160v-160H400v160Zm0 220h160v-160H400v160ZM180-400h160v-160H180v160Zm440 0h160v-160H620v160ZM180-180h160v-160H180v160Zm440 0h160v-160H620v160Z\"/>\n",
              "  </svg>\n",
              "    </button>\n",
              "\n",
              "  <style>\n",
              "    .colab-df-container {\n",
              "      display:flex;\n",
              "      gap: 12px;\n",
              "    }\n",
              "\n",
              "    .colab-df-convert {\n",
              "      background-color: #E8F0FE;\n",
              "      border: none;\n",
              "      border-radius: 50%;\n",
              "      cursor: pointer;\n",
              "      display: none;\n",
              "      fill: #1967D2;\n",
              "      height: 32px;\n",
              "      padding: 0 0 0 0;\n",
              "      width: 32px;\n",
              "    }\n",
              "\n",
              "    .colab-df-convert:hover {\n",
              "      background-color: #E2EBFA;\n",
              "      box-shadow: 0px 1px 2px rgba(60, 64, 67, 0.3), 0px 1px 3px 1px rgba(60, 64, 67, 0.15);\n",
              "      fill: #174EA6;\n",
              "    }\n",
              "\n",
              "    .colab-df-buttons div {\n",
              "      margin-bottom: 4px;\n",
              "    }\n",
              "\n",
              "    [theme=dark] .colab-df-convert {\n",
              "      background-color: #3B4455;\n",
              "      fill: #D2E3FC;\n",
              "    }\n",
              "\n",
              "    [theme=dark] .colab-df-convert:hover {\n",
              "      background-color: #434B5C;\n",
              "      box-shadow: 0px 1px 3px 1px rgba(0, 0, 0, 0.15);\n",
              "      filter: drop-shadow(0px 1px 2px rgba(0, 0, 0, 0.3));\n",
              "      fill: #FFFFFF;\n",
              "    }\n",
              "  </style>\n",
              "\n",
              "    <script>\n",
              "      const buttonEl =\n",
              "        document.querySelector('#df-5ab5b7a9-ef5f-4e07-b5fc-e441abadb4b8 button.colab-df-convert');\n",
              "      buttonEl.style.display =\n",
              "        google.colab.kernel.accessAllowed ? 'block' : 'none';\n",
              "\n",
              "      async function convertToInteractive(key) {\n",
              "        const element = document.querySelector('#df-5ab5b7a9-ef5f-4e07-b5fc-e441abadb4b8');\n",
              "        const dataTable =\n",
              "          await google.colab.kernel.invokeFunction('convertToInteractive',\n",
              "                                                    [key], {});\n",
              "        if (!dataTable) return;\n",
              "\n",
              "        const docLinkHtml = 'Like what you see? Visit the ' +\n",
              "          '<a target=\"_blank\" href=https://colab.research.google.com/notebooks/data_table.ipynb>data table notebook</a>'\n",
              "          + ' to learn more about interactive tables.';\n",
              "        element.innerHTML = '';\n",
              "        dataTable['output_type'] = 'display_data';\n",
              "        await google.colab.output.renderOutput(dataTable, element);\n",
              "        const docLink = document.createElement('div');\n",
              "        docLink.innerHTML = docLinkHtml;\n",
              "        element.appendChild(docLink);\n",
              "      }\n",
              "    </script>\n",
              "  </div>\n",
              "\n",
              "\n",
              "<div id=\"df-c72469ef-e35a-4e0d-ac2f-aa8ff71939f9\">\n",
              "  <button class=\"colab-df-quickchart\" onclick=\"quickchart('df-c72469ef-e35a-4e0d-ac2f-aa8ff71939f9')\"\n",
              "            title=\"Suggest charts\"\n",
              "            style=\"display:none;\">\n",
              "\n",
              "<svg xmlns=\"http://www.w3.org/2000/svg\" height=\"24px\"viewBox=\"0 0 24 24\"\n",
              "     width=\"24px\">\n",
              "    <g>\n",
              "        <path d=\"M19 3H5c-1.1 0-2 .9-2 2v14c0 1.1.9 2 2 2h14c1.1 0 2-.9 2-2V5c0-1.1-.9-2-2-2zM9 17H7v-7h2v7zm4 0h-2V7h2v10zm4 0h-2v-4h2v4z\"/>\n",
              "    </g>\n",
              "</svg>\n",
              "  </button>\n",
              "\n",
              "<style>\n",
              "  .colab-df-quickchart {\n",
              "      --bg-color: #E8F0FE;\n",
              "      --fill-color: #1967D2;\n",
              "      --hover-bg-color: #E2EBFA;\n",
              "      --hover-fill-color: #174EA6;\n",
              "      --disabled-fill-color: #AAA;\n",
              "      --disabled-bg-color: #DDD;\n",
              "  }\n",
              "\n",
              "  [theme=dark] .colab-df-quickchart {\n",
              "      --bg-color: #3B4455;\n",
              "      --fill-color: #D2E3FC;\n",
              "      --hover-bg-color: #434B5C;\n",
              "      --hover-fill-color: #FFFFFF;\n",
              "      --disabled-bg-color: #3B4455;\n",
              "      --disabled-fill-color: #666;\n",
              "  }\n",
              "\n",
              "  .colab-df-quickchart {\n",
              "    background-color: var(--bg-color);\n",
              "    border: none;\n",
              "    border-radius: 50%;\n",
              "    cursor: pointer;\n",
              "    display: none;\n",
              "    fill: var(--fill-color);\n",
              "    height: 32px;\n",
              "    padding: 0;\n",
              "    width: 32px;\n",
              "  }\n",
              "\n",
              "  .colab-df-quickchart:hover {\n",
              "    background-color: var(--hover-bg-color);\n",
              "    box-shadow: 0 1px 2px rgba(60, 64, 67, 0.3), 0 1px 3px 1px rgba(60, 64, 67, 0.15);\n",
              "    fill: var(--button-hover-fill-color);\n",
              "  }\n",
              "\n",
              "  .colab-df-quickchart-complete:disabled,\n",
              "  .colab-df-quickchart-complete:disabled:hover {\n",
              "    background-color: var(--disabled-bg-color);\n",
              "    fill: var(--disabled-fill-color);\n",
              "    box-shadow: none;\n",
              "  }\n",
              "\n",
              "  .colab-df-spinner {\n",
              "    border: 2px solid var(--fill-color);\n",
              "    border-color: transparent;\n",
              "    border-bottom-color: var(--fill-color);\n",
              "    animation:\n",
              "      spin 1s steps(1) infinite;\n",
              "  }\n",
              "\n",
              "  @keyframes spin {\n",
              "    0% {\n",
              "      border-color: transparent;\n",
              "      border-bottom-color: var(--fill-color);\n",
              "      border-left-color: var(--fill-color);\n",
              "    }\n",
              "    20% {\n",
              "      border-color: transparent;\n",
              "      border-left-color: var(--fill-color);\n",
              "      border-top-color: var(--fill-color);\n",
              "    }\n",
              "    30% {\n",
              "      border-color: transparent;\n",
              "      border-left-color: var(--fill-color);\n",
              "      border-top-color: var(--fill-color);\n",
              "      border-right-color: var(--fill-color);\n",
              "    }\n",
              "    40% {\n",
              "      border-color: transparent;\n",
              "      border-right-color: var(--fill-color);\n",
              "      border-top-color: var(--fill-color);\n",
              "    }\n",
              "    60% {\n",
              "      border-color: transparent;\n",
              "      border-right-color: var(--fill-color);\n",
              "    }\n",
              "    80% {\n",
              "      border-color: transparent;\n",
              "      border-right-color: var(--fill-color);\n",
              "      border-bottom-color: var(--fill-color);\n",
              "    }\n",
              "    90% {\n",
              "      border-color: transparent;\n",
              "      border-bottom-color: var(--fill-color);\n",
              "    }\n",
              "  }\n",
              "</style>\n",
              "\n",
              "  <script>\n",
              "    async function quickchart(key) {\n",
              "      const quickchartButtonEl =\n",
              "        document.querySelector('#' + key + ' button');\n",
              "      quickchartButtonEl.disabled = true;  // To prevent multiple clicks.\n",
              "      quickchartButtonEl.classList.add('colab-df-spinner');\n",
              "      try {\n",
              "        const charts = await google.colab.kernel.invokeFunction(\n",
              "            'suggestCharts', [key], {});\n",
              "      } catch (error) {\n",
              "        console.error('Error during call to suggestCharts:', error);\n",
              "      }\n",
              "      quickchartButtonEl.classList.remove('colab-df-spinner');\n",
              "      quickchartButtonEl.classList.add('colab-df-quickchart-complete');\n",
              "    }\n",
              "    (() => {\n",
              "      let quickchartButtonEl =\n",
              "        document.querySelector('#df-c72469ef-e35a-4e0d-ac2f-aa8ff71939f9 button');\n",
              "      quickchartButtonEl.style.display =\n",
              "        google.colab.kernel.accessAllowed ? 'block' : 'none';\n",
              "    })();\n",
              "  </script>\n",
              "</div>\n",
              "\n",
              "  <div id=\"id_5b531630-2c1e-4350-86b2-47a664d0a6d4\">\n",
              "    <style>\n",
              "      .colab-df-generate {\n",
              "        background-color: #E8F0FE;\n",
              "        border: none;\n",
              "        border-radius: 50%;\n",
              "        cursor: pointer;\n",
              "        display: none;\n",
              "        fill: #1967D2;\n",
              "        height: 32px;\n",
              "        padding: 0 0 0 0;\n",
              "        width: 32px;\n",
              "      }\n",
              "\n",
              "      .colab-df-generate:hover {\n",
              "        background-color: #E2EBFA;\n",
              "        box-shadow: 0px 1px 2px rgba(60, 64, 67, 0.3), 0px 1px 3px 1px rgba(60, 64, 67, 0.15);\n",
              "        fill: #174EA6;\n",
              "      }\n",
              "\n",
              "      [theme=dark] .colab-df-generate {\n",
              "        background-color: #3B4455;\n",
              "        fill: #D2E3FC;\n",
              "      }\n",
              "\n",
              "      [theme=dark] .colab-df-generate:hover {\n",
              "        background-color: #434B5C;\n",
              "        box-shadow: 0px 1px 3px 1px rgba(0, 0, 0, 0.15);\n",
              "        filter: drop-shadow(0px 1px 2px rgba(0, 0, 0, 0.3));\n",
              "        fill: #FFFFFF;\n",
              "      }\n",
              "    </style>\n",
              "    <button class=\"colab-df-generate\" onclick=\"generateWithVariable('df_doutores')\"\n",
              "            title=\"Generate code using this dataframe.\"\n",
              "            style=\"display:none;\">\n",
              "\n",
              "  <svg xmlns=\"http://www.w3.org/2000/svg\" height=\"24px\"viewBox=\"0 0 24 24\"\n",
              "       width=\"24px\">\n",
              "    <path d=\"M7,19H8.4L18.45,9,17,7.55,7,17.6ZM5,21V16.75L18.45,3.32a2,2,0,0,1,2.83,0l1.4,1.43a1.91,1.91,0,0,1,.58,1.4,1.91,1.91,0,0,1-.58,1.4L9.25,21ZM18.45,9,17,7.55Zm-12,3A5.31,5.31,0,0,0,4.9,8.1,5.31,5.31,0,0,0,1,6.5,5.31,5.31,0,0,0,4.9,4.9,5.31,5.31,0,0,0,6.5,1,5.31,5.31,0,0,0,8.1,4.9,5.31,5.31,0,0,0,12,6.5,5.46,5.46,0,0,0,6.5,12Z\"/>\n",
              "  </svg>\n",
              "    </button>\n",
              "    <script>\n",
              "      (() => {\n",
              "      const buttonEl =\n",
              "        document.querySelector('#id_5b531630-2c1e-4350-86b2-47a664d0a6d4 button.colab-df-generate');\n",
              "      buttonEl.style.display =\n",
              "        google.colab.kernel.accessAllowed ? 'block' : 'none';\n",
              "\n",
              "      buttonEl.onclick = () => {\n",
              "        google.colab.notebook.generateWithVariable('df_doutores');\n",
              "      }\n",
              "      })();\n",
              "    </script>\n",
              "  </div>\n",
              "\n",
              "    </div>\n",
              "  </div>\n"
            ],
            "application/vnd.google.colaboratory.intrinsic+json": {
              "type": "dataframe",
              "variable_name": "df_doutores",
              "summary": "{\n  \"name\": \"df_doutores\",\n  \"rows\": 1163,\n  \"fields\": [\n    {\n      \"column\": \"Unnamed: 0\",\n      \"properties\": {\n        \"dtype\": \"number\",\n        \"std\": 369,\n        \"min\": 37715,\n        \"max\": 38999,\n        \"num_unique_values\": 1163,\n        \"samples\": [\n          38751,\n          37830,\n          38569\n        ],\n        \"semantic_type\": \"\",\n        \"description\": \"\"\n      }\n    },\n    {\n      \"column\": \"IDLattes\",\n      \"properties\": {\n        \"dtype\": \"number\",\n        \"std\": 9722410554082,\n        \"min\": 1000020883210065,\n        \"max\": 1033484010955706,\n        \"num_unique_values\": 1163,\n        \"samples\": [\n          1026927557754161,\n          1003113270907697,\n          1022519638288692\n        ],\n        \"semantic_type\": \"\",\n        \"description\": \"\"\n      }\n    },\n    {\n      \"column\": \"DuracaoDoutorado\",\n      \"properties\": {\n        \"dtype\": \"number\",\n        \"std\": 1.2397096872124538,\n        \"min\": 1.0,\n        \"max\": 16.0,\n        \"num_unique_values\": 18,\n        \"samples\": [\n          6.0,\n          5.0,\n          16.0\n        ],\n        \"semantic_type\": \"\",\n        \"description\": \"\"\n      }\n    },\n    {\n      \"column\": \"Genero\",\n      \"properties\": {\n        \"dtype\": \"category\",\n        \"num_unique_values\": 2,\n        \"samples\": [\n          \"1\",\n          \"0\"\n        ],\n        \"semantic_type\": \"\",\n        \"description\": \"\"\n      }\n    },\n    {\n      \"column\": \"GrandesAreas\",\n      \"properties\": {\n        \"dtype\": \"category\",\n        \"num_unique_values\": 109,\n        \"samples\": [\n          \"CIENCIAS DA SAUDE; CIENCIAS AGRARIAS; CIENCIAS BIOLOGICAS; CIENCIAS EXATAS E DA TERRA\",\n          \"CIENCIAS AGRARIAS; CIENCIAS BIOLOGICAS\"\n        ],\n        \"semantic_type\": \"\",\n        \"description\": \"\"\n      }\n    },\n    {\n      \"column\": \"ExclusividadeDoutorado\",\n      \"properties\": {\n        \"dtype\": \"category\",\n        \"num_unique_values\": 2,\n        \"samples\": [\n          \"0\",\n          \"1\"\n        ],\n        \"semantic_type\": \"\",\n        \"description\": \"\"\n      }\n    },\n    {\n      \"column\": \"Publicacoes\",\n      \"properties\": {\n        \"dtype\": \"number\",\n        \"std\": 48.77859008716418,\n        \"min\": 1.0,\n        \"max\": 838.0,\n        \"num_unique_values\": 124,\n        \"samples\": [\n          8.0,\n          37.0\n        ],\n        \"semantic_type\": \"\",\n        \"description\": \"\"\n      }\n    },\n    {\n      \"column\": \"IdadeAcademica\",\n      \"properties\": {\n        \"dtype\": \"category\",\n        \"num_unique_values\": 53,\n        \"samples\": [\n          \"25.0\",\n          \"38.0\"\n        ],\n        \"semantic_type\": \"\",\n        \"description\": \"\"\n      }\n    },\n    {\n      \"column\": \"ListaFiliacoes\",\n      \"properties\": {\n        \"dtype\": \"string\",\n        \"num_unique_values\": 1120,\n        \"samples\": [\n          \"CONSELHO NACIONAL DESENVOLVIMENTO CIENTIFICO TECNOLOGICO; EMPRESA BRASILEIRA CORREIOS TELEGRAFOS ADM CENTRAL; UNIVERSIDADE FEDERAL MATO GROSSO SUL; SECRETARIA EDUCACAO; FORCA AEREA BRASILEIRA; PREFEITURA MUNICIPAL; INSTITUTO FEDERAL EDUCACAO CIENCIA TECNOLOGIA MATO GROSSO SUL\",\n          \"BAUHAUS UNIVERSITAET WEIMAR\"\n        ],\n        \"semantic_type\": \"\",\n        \"description\": \"\"\n      }\n    },\n    {\n      \"column\": \"UltimaFiliacao\",\n      \"properties\": {\n        \"dtype\": \"string\",\n        \"num_unique_values\": 856,\n        \"samples\": [\n          \"REVISTA TEMPOS ESPACOS EM EDUCACAO ONLINE\",\n          \"UNIVERSIDADE AVEIRO\"\n        ],\n        \"semantic_type\": \"\",\n        \"description\": \"\"\n      }\n    },\n    {\n      \"column\": \"HistoricoFiliacoesEmIESInternacional\",\n      \"properties\": {\n        \"dtype\": \"object\",\n        \"num_unique_values\": 1,\n        \"samples\": [\n          \"\"\n        ],\n        \"semantic_type\": \"\",\n        \"description\": \"\"\n      }\n    },\n    {\n      \"column\": \"UltimaFiliacaoEmIES\",\n      \"properties\": {\n        \"dtype\": \"number\",\n        \"std\": 0,\n        \"min\": 0,\n        \"max\": 1,\n        \"num_unique_values\": 2,\n        \"samples\": [\n          1\n        ],\n        \"semantic_type\": \"\",\n        \"description\": \"\"\n      }\n    },\n    {\n      \"column\": \"ListaHistoricoFiliacoesEmIESInternacional\",\n      \"properties\": {\n        \"dtype\": \"category\",\n        \"num_unique_values\": 1,\n        \"samples\": [\n          \" \"\n        ],\n        \"semantic_type\": \"\",\n        \"description\": \"\"\n      }\n    }\n  ]\n}"
            }
          },
          "metadata": {},
          "execution_count": 153
        }
      ]
    },
    {
      "cell_type": "code",
      "source": [
        "df_doutores['GrandesAreas'].unique()"
      ],
      "metadata": {
        "collapsed": true,
        "id": "_ITuOW7-pXBz"
      },
      "execution_count": null,
      "outputs": []
    },
    {
      "cell_type": "markdown",
      "source": [
        "# IMPORT CSV _ IES Brasil"
      ],
      "metadata": {
        "id": "fbmdA53gU3ba"
      }
    },
    {
      "cell_type": "code",
      "source": [
        "# LISTA DE IES NACIONAIS\n",
        "# https://dadosabertos.mec.gov.br/indicadores-sobre-ensino-superior/item/181-instituicoes-de-educacao-superior-do-brasil\n",
        "# https://dadosabertos.mec.gov.br/images/conteudo/Ind-ensino-superior/2022/PDA_Lista_Instituicoes_Ensino_Superior_do_Brasil_EMEC.csv\n",
        "\n",
        "df_uni_br = pd.read_csv('sup.csv', encoding='UTF-8')\n",
        "df_uni_br = df_uni_br[['NOME_DA_IES', 'SIGLA']]\n",
        "df_uni_br = df_uni_br.fillna('')\n",
        "df_uni_br = df_uni_br.sort_values(['NOME_DA_IES'], ascending=False)\n",
        "df_uni_br"
      ],
      "metadata": {
        "id": "B7KOmZ6yLXgB",
        "collapsed": true
      },
      "execution_count": null,
      "outputs": []
    },
    {
      "cell_type": "markdown",
      "source": [
        "# IMPORT CSV _ IES Mundial"
      ],
      "metadata": {
        "id": "gNwtQBngEeBC"
      }
    },
    {
      "cell_type": "code",
      "source": [
        "# Lista de IES Mundial\n",
        "# https://zenodo.org/records/13965926\n",
        "# https://zenodo.org/records/13965926\n",
        "\n",
        "df_uni_world = pd.read_csv('ror.csv', encoding='UTF-8')\n",
        "\n",
        "df_uni_world = df_uni_world[['name', 'aliases', 'acronyms', 'country.country_code']]\n",
        "df_uni_world = df_uni_world.rename(columns={\n",
        "    'country.country_code': 'PAIS',\n",
        "    'name': 'NOME_DA_IES',\n",
        "    'acronyms': 'SIGLA',\n",
        "    'aliases': 'ALIASES'\n",
        "})\n",
        "\n",
        "# IES BR foram removidos pois os nomes não estão em inglês e assim ficaria duplicado em relação a dataset do MEC\n",
        "df_uni_world = df_uni_world[df_uni_world['PAIS'] != 'BR']\n",
        "\n",
        "df_uni_world = df_uni_world.fillna('')\n",
        "\n",
        "df_uni_world"
      ],
      "metadata": {
        "id": "zkBxwPYIEb2W"
      },
      "execution_count": null,
      "outputs": []
    },
    {
      "cell_type": "markdown",
      "source": [
        "# PRE-PROCESSAMENTO"
      ],
      "metadata": {
        "id": "I-gS3KjqVNgI"
      }
    },
    {
      "cell_type": "code",
      "source": [
        "def clean_names(df, column_name, remove_semicolon=True):\n",
        "\n",
        "    # Remover '&'\n",
        "    df[column_name] = df[column_name].replace('&AMP;', ' ', regex=True)\n",
        "\n",
        "    # Remover todos os caracteres nao alfa-numericos, exceto whitespace e ;\n",
        "    if remove_semicolon:\n",
        "        df[column_name] = df[column_name].str.replace('[^\\w\\s]', ' ', regex=True)\n",
        "    else:\n",
        "        df[column_name] = df[column_name].str.replace('[^\\w\\s;]', ' ', regex=True)\n",
        "\n",
        "    # Normalizar a string\n",
        "    df[column_name] = df[column_name].str.normalize('NFKD').str.encode('ascii', errors='ignore').str.decode('utf-8')\n",
        "\n",
        "    # Remover stopwords\n",
        "    stop = ['DO', 'DA', 'DE', 'E']\n",
        "    df[column_name] = df[column_name].apply(lambda x: ' '.join([word for word in x.split() if word not in (stop)]))\n",
        "\n",
        "    # Strip whitespace\n",
        "    df[column_name] = df[column_name].apply(lambda x: x.strip())\n",
        "\n",
        "    return df"
      ],
      "metadata": {
        "id": "PrVp79lMVPLh"
      },
      "execution_count": null,
      "outputs": []
    },
    {
      "cell_type": "code",
      "source": [
        "df_doutores = df_doutores.apply(lambda x:x.astype(str).str.upper())\n",
        "df_doutores = clean_names(df_doutores, 'ListaFiliacoes', False)\n",
        "df_doutores = clean_names(df_doutores, 'UltimaFiliacao', False)\n",
        "\n",
        "df_uni_br = df_uni_br.apply(lambda x:x.astype(str).str.upper())\n",
        "df_uni_br = clean_names(df_uni_br, 'NOME_DA_IES')"
      ],
      "metadata": {
        "id": "1_zyGXunVXes"
      },
      "execution_count": null,
      "outputs": []
    },
    {
      "cell_type": "code",
      "source": [
        "# Split lista de IES por inicio do nome\n",
        "df_uni_br.sort_values(by=[\"NOME_DA_IES\"], ascending=True)\n",
        "\n",
        "df_uni_outros = df_uni_br.copy(deep=True)\n",
        "\n",
        "df_uni_instituto = df_uni_outros[df_uni_outros['NOME_DA_IES'].str.contains('INSTITUTO')]\n",
        "df_uni_outros.drop(df_uni_outros[df_uni_outros['NOME_DA_IES'].str.contains('INSTITUTO')].index, inplace=True)\n",
        "\n",
        "df_uni_faculdades = df_uni_outros[df_uni_outros['NOME_DA_IES'].str.contains('FACULDADE')]\n",
        "df_uni_outros.drop(df_uni_outros[df_uni_outros['NOME_DA_IES'].str.contains('FACULDADE')].index, inplace=True)\n",
        "\n",
        "df_uni_escola = df_uni_outros[df_uni_outros['NOME_DA_IES'].str.contains('ESCOLA')]\n",
        "df_uni_outros.drop(df_uni_outros[df_uni_outros['NOME_DA_IES'].str.contains('ESCOLA')].index, inplace=True)\n",
        "\n",
        "df_uni_universidade = df_uni_outros[df_uni_outros['NOME_DA_IES'].str.contains('UNIVERSIDADE')]\n",
        "df_uni_outros.drop(df_uni_outros[df_uni_outros['NOME_DA_IES'].str.contains('UNIVERSIDADE')].index, inplace=True)\n",
        "\n",
        "df_uni_instituicao = df_uni_outros[df_uni_outros['NOME_DA_IES'].str.contains('INSTITUICAO')]\n",
        "df_uni_outros.drop(df_uni_outros[df_uni_outros['NOME_DA_IES'].str.contains('INSTITUICAO')].index, inplace=True)\n",
        "\n",
        "# List\n",
        "# df_uni_outros, df_uni_instituto, df_uni_faculdades, df_uni_escola, df_uni_universidade, df_uni_instituicao"
      ],
      "metadata": {
        "id": "_hELLPGIV3K2"
      },
      "execution_count": null,
      "outputs": []
    },
    {
      "cell_type": "markdown",
      "source": [
        "# Merge IES df"
      ],
      "metadata": {
        "id": "KqyoviZReqt5"
      }
    },
    {
      "cell_type": "code",
      "source": [
        "df_uni_br['PAIS'] = 'BR'\n",
        "df_uni_br['ALIASES'] = ''\n",
        "\n",
        "print( (df_uni_world.shape[0] + df_uni_br.shape[0]), ' = ', df_uni_world.shape[0], ' + ', df_uni_br.shape[0])\n",
        "\n",
        "df_uni = pd.concat([df_uni_br, df_uni_world])\n",
        "\n",
        "df_uni[\"SIGLA\"] = df_uni[\"SIGLA\"].apply(lambda x: x.split(\";\")[0].strip())\n",
        "clean_names(df_uni, \"SIGLA\")"
      ],
      "metadata": {
        "collapsed": true,
        "id": "kLu9Ckn6epiB"
      },
      "execution_count": null,
      "outputs": []
    },
    {
      "cell_type": "code",
      "source": [
        "df_uni_sigla = df_uni.copy(deep=True)\n",
        "\n",
        "rows_to_drop = df_uni_sigla[df_uni_sigla['SIGLA']==''].index\n",
        "df_uni_sigla.drop(rows_to_drop, inplace=True)"
      ],
      "metadata": {
        "id": "ND6dTCwnH9kg"
      },
      "execution_count": null,
      "outputs": []
    },
    {
      "cell_type": "code",
      "source": [
        "df_uni_sigla"
      ],
      "metadata": {
        "id": "29Inj1y-H-8s"
      },
      "execution_count": null,
      "outputs": []
    },
    {
      "cell_type": "markdown",
      "source": [
        "# PLN"
      ],
      "metadata": {
        "id": "uUDVZhC1V5i0"
      }
    },
    {
      "cell_type": "markdown",
      "source": [
        "## TF_IDF"
      ],
      "metadata": {
        "id": "NYEF_O3SK86x"
      }
    },
    {
      "cell_type": "code",
      "source": [
        "def get_uni_list_df(nome_instituicao):\n",
        "    if 'INSTITUTO' in nome_instituicao:\n",
        "        return df_uni_instituto, tfidf_matrix_instituto\n",
        "    elif 'FACULDADE' in nome_instituicao:\n",
        "        return df_uni_faculdades, tfidf_matrix_faculdades\n",
        "    elif 'ESCOLA' in nome_instituicao:\n",
        "        return df_uni_escola, tfidf_matrix_escola\n",
        "    elif 'UNIVERSIDADE' in nome_instituicao:\n",
        "        return df_uni_universidade, tfidf_matrix_universidade\n",
        "    elif 'INSTITUICAO' in nome_instituicao:\n",
        "        return df_uni_instituicao, tfidf_matrix_instituicao\n",
        "\n",
        "    return df_uni_outros, tfidf_matrix_outros"
      ],
      "metadata": {
        "id": "Gxpp_ZSxV6Ki"
      },
      "execution_count": 128,
      "outputs": []
    },
    {
      "cell_type": "code",
      "source": [
        "from sklearn.feature_extraction.text import TfidfVectorizer\n",
        "from sklearn.metrics.pairwise import cosine_similarity\n",
        "\n",
        "# Vetorização TF-IDF : Lista IES Brasil\n",
        "vectorizer_b = TfidfVectorizer().fit(df_uni_br['NOME_DA_IES'])\n",
        "tfidf_matrix_universidades = vectorizer_b.transform(df_uni_br['NOME_DA_IES']) # geral\n",
        "tfidf_matrix_instituto = vectorizer_b.transform(df_uni_instituto['NOME_DA_IES'])\n",
        "tfidf_matrix_faculdades = vectorizer_b.transform(df_uni_faculdades['NOME_DA_IES'])\n",
        "tfidf_matrix_escola = vectorizer_b.transform(df_uni_escola['NOME_DA_IES'])\n",
        "tfidf_matrix_universidade = vectorizer_b.transform(df_uni_universidade['NOME_DA_IES'])\n",
        "tfidf_matrix_instituicao = vectorizer_b.transform(df_uni_instituicao['NOME_DA_IES'])\n",
        "tfidf_matrix_outros = vectorizer_b.transform(df_uni_outros['NOME_DA_IES'])\n",
        "\n",
        "# Vetorização TF-IDF : Lista IES Mundial\n",
        "vectorizer_w = TfidfVectorizer().fit(df_uni_world['NOME_DA_IES'])\n",
        "tfidf_matrix_world = vectorizer_w.transform(df_uni_world['NOME_DA_IES'])"
      ],
      "metadata": {
        "id": "N1wmcCYtYhL9"
      },
      "execution_count": 129,
      "outputs": []
    },
    {
      "cell_type": "code",
      "source": [
        "def iterate_sigla(nome_instituicao):\n",
        "\n",
        "    #lista = df_uni[\"SIGLA\"].apply(lambda x: True if (x + ' ' in nome_instituicao) or (' ' + x in nome_instituicao) or (' ' + x + ' ' in nome_instituicao) else False)\n",
        "    lista = df_uni_sigla[\"SIGLA\"].apply(lambda x: bool(re.search(rf'\\b{x}\\b', nome_instituicao)))\n",
        "    siglas_encontradas = df_uni_sigla[lista]\n",
        "\n",
        "    if siglas_encontradas.empty:\n",
        "        return '', ''\n",
        "    else:\n",
        "        return siglas_encontradas.iloc[0]['SIGLA'], siglas_encontradas.iloc[0]['PAIS']"
      ],
      "metadata": {
        "id": "tUw_NcxjGHss"
      },
      "execution_count": 134,
      "outputs": []
    },
    {
      "cell_type": "markdown",
      "source": [
        "## UltimaFiliacaoEmIES"
      ],
      "metadata": {
        "id": "8mv5gu-FLTuR"
      }
    },
    {
      "cell_type": "code",
      "source": [
        "threshold = 0.8\n",
        "\n",
        "def metodo1(nomes_instituicoes):\n",
        "\n",
        "    if nomes_instituicoes:\n",
        "\n",
        "        nomes_instituicoes_split = str(nomes_instituicoes).split(';')\n",
        "\n",
        "        for nome_instituicao in nomes_instituicoes_split:\n",
        "\n",
        "            nome_instituicao = nome_instituicao.strip()\n",
        "\n",
        "            #print(nome_instituicao)\n",
        "\n",
        "            # Ver se contém a sigla\n",
        "            sigla_detectado, _ = iterate_sigla(nome_instituicao)\n",
        "            if sigla_detectado:\n",
        "                #print(\"sigla detectado : \", sigla_detectado)\n",
        "                #print(\"==================\")\n",
        "                return '1'\n",
        "\n",
        "            # Se nao contem a sigla, procurar por nome completo\n",
        "            else:\n",
        "                vector_comparacao = vectorizer_b.transform([nome_instituicao])\n",
        "\n",
        "                uni_list_df, tfidf_matrix_df = get_uni_list_df(nome_instituicao)\n",
        "\n",
        "                similaridade = cosine_similarity(vector_comparacao, tfidf_matrix_df)\n",
        "\n",
        "                max_value = np.max(similaridade)\n",
        "                max_index = np.argmax(similaridade)\n",
        "\n",
        "                nome_detectado = uni_list_df.iloc[max_index]['NOME_DA_IES']\n",
        "\n",
        "                if (max_value >= threshold):\n",
        "                    #print(\"ies br detectado : \", nome_detectado, max_value)\n",
        "                    #print(\"==================\")\n",
        "                    return '1'\n",
        "\n",
        "                # se nao achou nenhuma ies br, procurar ies estrangeira\n",
        "                else:\n",
        "                    vector_comparacao = vectorizer_w.transform([nome_instituicao])\n",
        "                    uni_list_df, tfidf_matrix_df = df_uni_world, tfidf_matrix_world\n",
        "                    similaridade = cosine_similarity(vector_comparacao, tfidf_matrix_df)\n",
        "\n",
        "                    max_value = np.max(similaridade)\n",
        "                    max_index = np.argmax(similaridade)\n",
        "\n",
        "                    nome_detectado = uni_list_df.iloc[max_index]['NOME_DA_IES']\n",
        "\n",
        "                    if (max_value >= threshold):\n",
        "                        #print(\"ies estrangeiro detectado : \", nome_detectado, max_value)\n",
        "                        #print(\"==================\")\n",
        "                        return '1'\n",
        "\n",
        "                    else:\n",
        "                        print(\"==================\")\n",
        "\n",
        "                    # nao eh ies\n",
        "\n",
        "        print(\"==================\")\n",
        "\n",
        "    return '0'\n",
        "\n",
        "df_doutores['UltimaFiliacaoEmIES'] = df_doutores[\"UltimaFiliacao\"].apply(lambda x: metodo1(x))"
      ],
      "metadata": {
        "id": "4XZUgMHwYAxd",
        "collapsed": true,
        "colab": {
          "base_uri": "https://localhost:8080/",
          "height": 587
        },
        "outputId": "1842c27d-29ae-4696-bff2-c080feeead6c"
      },
      "execution_count": 121,
      "outputs": [
        {
          "output_type": "stream",
          "name": "stdout",
          "text": [
            "Empty DataFrame\n",
            "Columns: [NOME_DA_IES, SIGLA, PAIS, ALIASES]\n",
            "Index: []\n",
            "vaziiiiooooooooooooooooo\n",
            "Empty DataFrame\n",
            "Columns: [NOME_DA_IES, SIGLA, PAIS, ALIASES]\n",
            "Index: []\n",
            "vaziiiiooooooooooooooooo\n",
            "==================\n",
            "==================\n"
          ]
        },
        {
          "output_type": "error",
          "ename": "KeyboardInterrupt",
          "evalue": "",
          "traceback": [
            "\u001b[0;31m---------------------------------------------------------------------------\u001b[0m",
            "\u001b[0;31mKeyboardInterrupt\u001b[0m                         Traceback (most recent call last)",
            "\u001b[0;32m<ipython-input-121-686784c713bc>\u001b[0m in \u001b[0;36m<cell line: 65>\u001b[0;34m()\u001b[0m\n\u001b[1;32m     63\u001b[0m     \u001b[0;32mreturn\u001b[0m \u001b[0;34m'0'\u001b[0m\u001b[0;34m\u001b[0m\u001b[0;34m\u001b[0m\u001b[0m\n\u001b[1;32m     64\u001b[0m \u001b[0;34m\u001b[0m\u001b[0m\n\u001b[0;32m---> 65\u001b[0;31m \u001b[0mdf_doutores\u001b[0m\u001b[0;34m[\u001b[0m\u001b[0;34m'UltimaFiliacaoEmIES'\u001b[0m\u001b[0;34m]\u001b[0m \u001b[0;34m=\u001b[0m \u001b[0mdf_doutores\u001b[0m\u001b[0;34m[\u001b[0m\u001b[0;34m\"UltimaFiliacao\"\u001b[0m\u001b[0;34m]\u001b[0m\u001b[0;34m.\u001b[0m\u001b[0mapply\u001b[0m\u001b[0;34m(\u001b[0m\u001b[0;32mlambda\u001b[0m \u001b[0mx\u001b[0m\u001b[0;34m:\u001b[0m \u001b[0mmetodo1\u001b[0m\u001b[0;34m(\u001b[0m\u001b[0mx\u001b[0m\u001b[0;34m)\u001b[0m\u001b[0;34m)\u001b[0m\u001b[0;34m\u001b[0m\u001b[0;34m\u001b[0m\u001b[0m\n\u001b[0m",
            "\u001b[0;32m/usr/local/lib/python3.10/dist-packages/pandas/core/series.py\u001b[0m in \u001b[0;36mapply\u001b[0;34m(self, func, convert_dtype, args, by_row, **kwargs)\u001b[0m\n\u001b[1;32m   4922\u001b[0m             \u001b[0margs\u001b[0m\u001b[0;34m=\u001b[0m\u001b[0margs\u001b[0m\u001b[0;34m,\u001b[0m\u001b[0;34m\u001b[0m\u001b[0;34m\u001b[0m\u001b[0m\n\u001b[1;32m   4923\u001b[0m             \u001b[0mkwargs\u001b[0m\u001b[0;34m=\u001b[0m\u001b[0mkwargs\u001b[0m\u001b[0;34m,\u001b[0m\u001b[0;34m\u001b[0m\u001b[0;34m\u001b[0m\u001b[0m\n\u001b[0;32m-> 4924\u001b[0;31m         ).apply()\n\u001b[0m\u001b[1;32m   4925\u001b[0m \u001b[0;34m\u001b[0m\u001b[0m\n\u001b[1;32m   4926\u001b[0m     def _reindex_indexer(\n",
            "\u001b[0;32m/usr/local/lib/python3.10/dist-packages/pandas/core/apply.py\u001b[0m in \u001b[0;36mapply\u001b[0;34m(self)\u001b[0m\n\u001b[1;32m   1425\u001b[0m \u001b[0;34m\u001b[0m\u001b[0m\n\u001b[1;32m   1426\u001b[0m         \u001b[0;31m# self.func is Callable\u001b[0m\u001b[0;34m\u001b[0m\u001b[0;34m\u001b[0m\u001b[0m\n\u001b[0;32m-> 1427\u001b[0;31m         \u001b[0;32mreturn\u001b[0m \u001b[0mself\u001b[0m\u001b[0;34m.\u001b[0m\u001b[0mapply_standard\u001b[0m\u001b[0;34m(\u001b[0m\u001b[0;34m)\u001b[0m\u001b[0;34m\u001b[0m\u001b[0;34m\u001b[0m\u001b[0m\n\u001b[0m\u001b[1;32m   1428\u001b[0m \u001b[0;34m\u001b[0m\u001b[0m\n\u001b[1;32m   1429\u001b[0m     \u001b[0;32mdef\u001b[0m \u001b[0magg\u001b[0m\u001b[0;34m(\u001b[0m\u001b[0mself\u001b[0m\u001b[0;34m)\u001b[0m\u001b[0;34m:\u001b[0m\u001b[0;34m\u001b[0m\u001b[0;34m\u001b[0m\u001b[0m\n",
            "\u001b[0;32m/usr/local/lib/python3.10/dist-packages/pandas/core/apply.py\u001b[0m in \u001b[0;36mapply_standard\u001b[0;34m(self)\u001b[0m\n\u001b[1;32m   1505\u001b[0m         \u001b[0;31m#  Categorical (GH51645).\u001b[0m\u001b[0;34m\u001b[0m\u001b[0;34m\u001b[0m\u001b[0m\n\u001b[1;32m   1506\u001b[0m         \u001b[0maction\u001b[0m \u001b[0;34m=\u001b[0m \u001b[0;34m\"ignore\"\u001b[0m \u001b[0;32mif\u001b[0m \u001b[0misinstance\u001b[0m\u001b[0;34m(\u001b[0m\u001b[0mobj\u001b[0m\u001b[0;34m.\u001b[0m\u001b[0mdtype\u001b[0m\u001b[0;34m,\u001b[0m \u001b[0mCategoricalDtype\u001b[0m\u001b[0;34m)\u001b[0m \u001b[0;32melse\u001b[0m \u001b[0;32mNone\u001b[0m\u001b[0;34m\u001b[0m\u001b[0;34m\u001b[0m\u001b[0m\n\u001b[0;32m-> 1507\u001b[0;31m         mapped = obj._map_values(\n\u001b[0m\u001b[1;32m   1508\u001b[0m             \u001b[0mmapper\u001b[0m\u001b[0;34m=\u001b[0m\u001b[0mcurried\u001b[0m\u001b[0;34m,\u001b[0m \u001b[0mna_action\u001b[0m\u001b[0;34m=\u001b[0m\u001b[0maction\u001b[0m\u001b[0;34m,\u001b[0m \u001b[0mconvert\u001b[0m\u001b[0;34m=\u001b[0m\u001b[0mself\u001b[0m\u001b[0;34m.\u001b[0m\u001b[0mconvert_dtype\u001b[0m\u001b[0;34m\u001b[0m\u001b[0;34m\u001b[0m\u001b[0m\n\u001b[1;32m   1509\u001b[0m         )\n",
            "\u001b[0;32m/usr/local/lib/python3.10/dist-packages/pandas/core/base.py\u001b[0m in \u001b[0;36m_map_values\u001b[0;34m(self, mapper, na_action, convert)\u001b[0m\n\u001b[1;32m    919\u001b[0m             \u001b[0;32mreturn\u001b[0m \u001b[0marr\u001b[0m\u001b[0;34m.\u001b[0m\u001b[0mmap\u001b[0m\u001b[0;34m(\u001b[0m\u001b[0mmapper\u001b[0m\u001b[0;34m,\u001b[0m \u001b[0mna_action\u001b[0m\u001b[0;34m=\u001b[0m\u001b[0mna_action\u001b[0m\u001b[0;34m)\u001b[0m\u001b[0;34m\u001b[0m\u001b[0;34m\u001b[0m\u001b[0m\n\u001b[1;32m    920\u001b[0m \u001b[0;34m\u001b[0m\u001b[0m\n\u001b[0;32m--> 921\u001b[0;31m         \u001b[0;32mreturn\u001b[0m \u001b[0malgorithms\u001b[0m\u001b[0;34m.\u001b[0m\u001b[0mmap_array\u001b[0m\u001b[0;34m(\u001b[0m\u001b[0marr\u001b[0m\u001b[0;34m,\u001b[0m \u001b[0mmapper\u001b[0m\u001b[0;34m,\u001b[0m \u001b[0mna_action\u001b[0m\u001b[0;34m=\u001b[0m\u001b[0mna_action\u001b[0m\u001b[0;34m,\u001b[0m \u001b[0mconvert\u001b[0m\u001b[0;34m=\u001b[0m\u001b[0mconvert\u001b[0m\u001b[0;34m)\u001b[0m\u001b[0;34m\u001b[0m\u001b[0;34m\u001b[0m\u001b[0m\n\u001b[0m\u001b[1;32m    922\u001b[0m \u001b[0;34m\u001b[0m\u001b[0m\n\u001b[1;32m    923\u001b[0m     \u001b[0;34m@\u001b[0m\u001b[0mfinal\u001b[0m\u001b[0;34m\u001b[0m\u001b[0;34m\u001b[0m\u001b[0m\n",
            "\u001b[0;32m/usr/local/lib/python3.10/dist-packages/pandas/core/algorithms.py\u001b[0m in \u001b[0;36mmap_array\u001b[0;34m(arr, mapper, na_action, convert)\u001b[0m\n\u001b[1;32m   1741\u001b[0m     \u001b[0mvalues\u001b[0m \u001b[0;34m=\u001b[0m \u001b[0marr\u001b[0m\u001b[0;34m.\u001b[0m\u001b[0mastype\u001b[0m\u001b[0;34m(\u001b[0m\u001b[0mobject\u001b[0m\u001b[0;34m,\u001b[0m \u001b[0mcopy\u001b[0m\u001b[0;34m=\u001b[0m\u001b[0;32mFalse\u001b[0m\u001b[0;34m)\u001b[0m\u001b[0;34m\u001b[0m\u001b[0;34m\u001b[0m\u001b[0m\n\u001b[1;32m   1742\u001b[0m     \u001b[0;32mif\u001b[0m \u001b[0mna_action\u001b[0m \u001b[0;32mis\u001b[0m \u001b[0;32mNone\u001b[0m\u001b[0;34m:\u001b[0m\u001b[0;34m\u001b[0m\u001b[0;34m\u001b[0m\u001b[0m\n\u001b[0;32m-> 1743\u001b[0;31m         \u001b[0;32mreturn\u001b[0m \u001b[0mlib\u001b[0m\u001b[0;34m.\u001b[0m\u001b[0mmap_infer\u001b[0m\u001b[0;34m(\u001b[0m\u001b[0mvalues\u001b[0m\u001b[0;34m,\u001b[0m \u001b[0mmapper\u001b[0m\u001b[0;34m,\u001b[0m \u001b[0mconvert\u001b[0m\u001b[0;34m=\u001b[0m\u001b[0mconvert\u001b[0m\u001b[0;34m)\u001b[0m\u001b[0;34m\u001b[0m\u001b[0;34m\u001b[0m\u001b[0m\n\u001b[0m\u001b[1;32m   1744\u001b[0m     \u001b[0;32melse\u001b[0m\u001b[0;34m:\u001b[0m\u001b[0;34m\u001b[0m\u001b[0;34m\u001b[0m\u001b[0m\n\u001b[1;32m   1745\u001b[0m         return lib.map_infer_mask(\n",
            "\u001b[0;32mlib.pyx\u001b[0m in \u001b[0;36mpandas._libs.lib.map_infer\u001b[0;34m()\u001b[0m\n",
            "\u001b[0;32m<ipython-input-121-686784c713bc>\u001b[0m in \u001b[0;36m<lambda>\u001b[0;34m(x)\u001b[0m\n\u001b[1;32m     63\u001b[0m     \u001b[0;32mreturn\u001b[0m \u001b[0;34m'0'\u001b[0m\u001b[0;34m\u001b[0m\u001b[0;34m\u001b[0m\u001b[0m\n\u001b[1;32m     64\u001b[0m \u001b[0;34m\u001b[0m\u001b[0m\n\u001b[0;32m---> 65\u001b[0;31m \u001b[0mdf_doutores\u001b[0m\u001b[0;34m[\u001b[0m\u001b[0;34m'UltimaFiliacaoEmIES'\u001b[0m\u001b[0;34m]\u001b[0m \u001b[0;34m=\u001b[0m \u001b[0mdf_doutores\u001b[0m\u001b[0;34m[\u001b[0m\u001b[0;34m\"UltimaFiliacao\"\u001b[0m\u001b[0;34m]\u001b[0m\u001b[0;34m.\u001b[0m\u001b[0mapply\u001b[0m\u001b[0;34m(\u001b[0m\u001b[0;32mlambda\u001b[0m \u001b[0mx\u001b[0m\u001b[0;34m:\u001b[0m \u001b[0mmetodo1\u001b[0m\u001b[0;34m(\u001b[0m\u001b[0mx\u001b[0m\u001b[0;34m)\u001b[0m\u001b[0;34m)\u001b[0m\u001b[0;34m\u001b[0m\u001b[0;34m\u001b[0m\u001b[0m\n\u001b[0m",
            "\u001b[0;32m<ipython-input-121-686784c713bc>\u001b[0m in \u001b[0;36mmetodo1\u001b[0;34m(nomes_instituicoes)\u001b[0m\n\u001b[1;32m     14\u001b[0m \u001b[0;34m\u001b[0m\u001b[0m\n\u001b[1;32m     15\u001b[0m             \u001b[0;31m# Ver se contém a sigla\u001b[0m\u001b[0;34m\u001b[0m\u001b[0;34m\u001b[0m\u001b[0m\n\u001b[0;32m---> 16\u001b[0;31m             \u001b[0msigla_detectado\u001b[0m\u001b[0;34m,\u001b[0m \u001b[0m_\u001b[0m \u001b[0;34m=\u001b[0m \u001b[0miterate_sigla\u001b[0m\u001b[0;34m(\u001b[0m\u001b[0mnome_instituicao\u001b[0m\u001b[0;34m)\u001b[0m\u001b[0;34m\u001b[0m\u001b[0;34m\u001b[0m\u001b[0m\n\u001b[0m\u001b[1;32m     17\u001b[0m             \u001b[0;32mif\u001b[0m \u001b[0msigla_detectado\u001b[0m\u001b[0;34m:\u001b[0m\u001b[0;34m\u001b[0m\u001b[0;34m\u001b[0m\u001b[0m\n\u001b[1;32m     18\u001b[0m                 \u001b[0;31m#print(\"sigla detectado : \", sigla_detectado)\u001b[0m\u001b[0;34m\u001b[0m\u001b[0;34m\u001b[0m\u001b[0m\n",
            "\u001b[0;32m<ipython-input-120-65131084baf5>\u001b[0m in \u001b[0;36miterate_sigla\u001b[0;34m(nome_instituicao)\u001b[0m\n\u001b[1;32m      2\u001b[0m \u001b[0;34m\u001b[0m\u001b[0m\n\u001b[1;32m      3\u001b[0m     \u001b[0;31m#lista = df_uni[\"SIGLA\"].apply(lambda x: True if (x + ' ' in nome_instituicao) or (' ' + x in nome_instituicao) or (' ' + x + ' ' in nome_instituicao) else False)\u001b[0m\u001b[0;34m\u001b[0m\u001b[0;34m\u001b[0m\u001b[0m\n\u001b[0;32m----> 4\u001b[0;31m     \u001b[0mlista\u001b[0m \u001b[0;34m=\u001b[0m \u001b[0mdf_uni_sigla\u001b[0m\u001b[0;34m[\u001b[0m\u001b[0;34m\"SIGLA\"\u001b[0m\u001b[0;34m]\u001b[0m\u001b[0;34m.\u001b[0m\u001b[0mapply\u001b[0m\u001b[0;34m(\u001b[0m\u001b[0;32mlambda\u001b[0m \u001b[0mx\u001b[0m\u001b[0;34m:\u001b[0m \u001b[0mbool\u001b[0m\u001b[0;34m(\u001b[0m\u001b[0mre\u001b[0m\u001b[0;34m.\u001b[0m\u001b[0msearch\u001b[0m\u001b[0;34m(\u001b[0m\u001b[0;34mrf'\\b{x}\\b'\u001b[0m\u001b[0;34m,\u001b[0m \u001b[0mnome_instituicao\u001b[0m\u001b[0;34m)\u001b[0m\u001b[0;34m)\u001b[0m\u001b[0;34m)\u001b[0m\u001b[0;34m\u001b[0m\u001b[0;34m\u001b[0m\u001b[0m\n\u001b[0m\u001b[1;32m      5\u001b[0m     \u001b[0msiglas_encontradas\u001b[0m \u001b[0;34m=\u001b[0m \u001b[0mdf_uni_sigla\u001b[0m\u001b[0;34m[\u001b[0m\u001b[0mlista\u001b[0m\u001b[0;34m]\u001b[0m\u001b[0;34m\u001b[0m\u001b[0;34m\u001b[0m\u001b[0m\n\u001b[1;32m      6\u001b[0m     \u001b[0mprint\u001b[0m\u001b[0;34m(\u001b[0m\u001b[0msiglas_encontradas\u001b[0m\u001b[0;34m)\u001b[0m\u001b[0;34m\u001b[0m\u001b[0;34m\u001b[0m\u001b[0m\n",
            "\u001b[0;32m/usr/local/lib/python3.10/dist-packages/pandas/core/series.py\u001b[0m in \u001b[0;36mapply\u001b[0;34m(self, func, convert_dtype, args, by_row, **kwargs)\u001b[0m\n\u001b[1;32m   4922\u001b[0m             \u001b[0margs\u001b[0m\u001b[0;34m=\u001b[0m\u001b[0margs\u001b[0m\u001b[0;34m,\u001b[0m\u001b[0;34m\u001b[0m\u001b[0;34m\u001b[0m\u001b[0m\n\u001b[1;32m   4923\u001b[0m             \u001b[0mkwargs\u001b[0m\u001b[0;34m=\u001b[0m\u001b[0mkwargs\u001b[0m\u001b[0;34m,\u001b[0m\u001b[0;34m\u001b[0m\u001b[0;34m\u001b[0m\u001b[0m\n\u001b[0;32m-> 4924\u001b[0;31m         ).apply()\n\u001b[0m\u001b[1;32m   4925\u001b[0m \u001b[0;34m\u001b[0m\u001b[0m\n\u001b[1;32m   4926\u001b[0m     def _reindex_indexer(\n",
            "\u001b[0;32m/usr/local/lib/python3.10/dist-packages/pandas/core/apply.py\u001b[0m in \u001b[0;36mapply\u001b[0;34m(self)\u001b[0m\n\u001b[1;32m   1425\u001b[0m \u001b[0;34m\u001b[0m\u001b[0m\n\u001b[1;32m   1426\u001b[0m         \u001b[0;31m# self.func is Callable\u001b[0m\u001b[0;34m\u001b[0m\u001b[0;34m\u001b[0m\u001b[0m\n\u001b[0;32m-> 1427\u001b[0;31m         \u001b[0;32mreturn\u001b[0m \u001b[0mself\u001b[0m\u001b[0;34m.\u001b[0m\u001b[0mapply_standard\u001b[0m\u001b[0;34m(\u001b[0m\u001b[0;34m)\u001b[0m\u001b[0;34m\u001b[0m\u001b[0;34m\u001b[0m\u001b[0m\n\u001b[0m\u001b[1;32m   1428\u001b[0m \u001b[0;34m\u001b[0m\u001b[0m\n\u001b[1;32m   1429\u001b[0m     \u001b[0;32mdef\u001b[0m \u001b[0magg\u001b[0m\u001b[0;34m(\u001b[0m\u001b[0mself\u001b[0m\u001b[0;34m)\u001b[0m\u001b[0;34m:\u001b[0m\u001b[0;34m\u001b[0m\u001b[0;34m\u001b[0m\u001b[0m\n",
            "\u001b[0;32m/usr/local/lib/python3.10/dist-packages/pandas/core/apply.py\u001b[0m in \u001b[0;36mapply_standard\u001b[0;34m(self)\u001b[0m\n\u001b[1;32m   1505\u001b[0m         \u001b[0;31m#  Categorical (GH51645).\u001b[0m\u001b[0;34m\u001b[0m\u001b[0;34m\u001b[0m\u001b[0m\n\u001b[1;32m   1506\u001b[0m         \u001b[0maction\u001b[0m \u001b[0;34m=\u001b[0m \u001b[0;34m\"ignore\"\u001b[0m \u001b[0;32mif\u001b[0m \u001b[0misinstance\u001b[0m\u001b[0;34m(\u001b[0m\u001b[0mobj\u001b[0m\u001b[0;34m.\u001b[0m\u001b[0mdtype\u001b[0m\u001b[0;34m,\u001b[0m \u001b[0mCategoricalDtype\u001b[0m\u001b[0;34m)\u001b[0m \u001b[0;32melse\u001b[0m \u001b[0;32mNone\u001b[0m\u001b[0;34m\u001b[0m\u001b[0;34m\u001b[0m\u001b[0m\n\u001b[0;32m-> 1507\u001b[0;31m         mapped = obj._map_values(\n\u001b[0m\u001b[1;32m   1508\u001b[0m             \u001b[0mmapper\u001b[0m\u001b[0;34m=\u001b[0m\u001b[0mcurried\u001b[0m\u001b[0;34m,\u001b[0m \u001b[0mna_action\u001b[0m\u001b[0;34m=\u001b[0m\u001b[0maction\u001b[0m\u001b[0;34m,\u001b[0m \u001b[0mconvert\u001b[0m\u001b[0;34m=\u001b[0m\u001b[0mself\u001b[0m\u001b[0;34m.\u001b[0m\u001b[0mconvert_dtype\u001b[0m\u001b[0;34m\u001b[0m\u001b[0;34m\u001b[0m\u001b[0m\n\u001b[1;32m   1509\u001b[0m         )\n",
            "\u001b[0;32m/usr/local/lib/python3.10/dist-packages/pandas/core/base.py\u001b[0m in \u001b[0;36m_map_values\u001b[0;34m(self, mapper, na_action, convert)\u001b[0m\n\u001b[1;32m    919\u001b[0m             \u001b[0;32mreturn\u001b[0m \u001b[0marr\u001b[0m\u001b[0;34m.\u001b[0m\u001b[0mmap\u001b[0m\u001b[0;34m(\u001b[0m\u001b[0mmapper\u001b[0m\u001b[0;34m,\u001b[0m \u001b[0mna_action\u001b[0m\u001b[0;34m=\u001b[0m\u001b[0mna_action\u001b[0m\u001b[0;34m)\u001b[0m\u001b[0;34m\u001b[0m\u001b[0;34m\u001b[0m\u001b[0m\n\u001b[1;32m    920\u001b[0m \u001b[0;34m\u001b[0m\u001b[0m\n\u001b[0;32m--> 921\u001b[0;31m         \u001b[0;32mreturn\u001b[0m \u001b[0malgorithms\u001b[0m\u001b[0;34m.\u001b[0m\u001b[0mmap_array\u001b[0m\u001b[0;34m(\u001b[0m\u001b[0marr\u001b[0m\u001b[0;34m,\u001b[0m \u001b[0mmapper\u001b[0m\u001b[0;34m,\u001b[0m \u001b[0mna_action\u001b[0m\u001b[0;34m=\u001b[0m\u001b[0mna_action\u001b[0m\u001b[0;34m,\u001b[0m \u001b[0mconvert\u001b[0m\u001b[0;34m=\u001b[0m\u001b[0mconvert\u001b[0m\u001b[0;34m)\u001b[0m\u001b[0;34m\u001b[0m\u001b[0;34m\u001b[0m\u001b[0m\n\u001b[0m\u001b[1;32m    922\u001b[0m \u001b[0;34m\u001b[0m\u001b[0m\n\u001b[1;32m    923\u001b[0m     \u001b[0;34m@\u001b[0m\u001b[0mfinal\u001b[0m\u001b[0;34m\u001b[0m\u001b[0;34m\u001b[0m\u001b[0m\n",
            "\u001b[0;32m/usr/local/lib/python3.10/dist-packages/pandas/core/algorithms.py\u001b[0m in \u001b[0;36mmap_array\u001b[0;34m(arr, mapper, na_action, convert)\u001b[0m\n\u001b[1;32m   1741\u001b[0m     \u001b[0mvalues\u001b[0m \u001b[0;34m=\u001b[0m \u001b[0marr\u001b[0m\u001b[0;34m.\u001b[0m\u001b[0mastype\u001b[0m\u001b[0;34m(\u001b[0m\u001b[0mobject\u001b[0m\u001b[0;34m,\u001b[0m \u001b[0mcopy\u001b[0m\u001b[0;34m=\u001b[0m\u001b[0;32mFalse\u001b[0m\u001b[0;34m)\u001b[0m\u001b[0;34m\u001b[0m\u001b[0;34m\u001b[0m\u001b[0m\n\u001b[1;32m   1742\u001b[0m     \u001b[0;32mif\u001b[0m \u001b[0mna_action\u001b[0m \u001b[0;32mis\u001b[0m \u001b[0;32mNone\u001b[0m\u001b[0;34m:\u001b[0m\u001b[0;34m\u001b[0m\u001b[0;34m\u001b[0m\u001b[0m\n\u001b[0;32m-> 1743\u001b[0;31m         \u001b[0;32mreturn\u001b[0m \u001b[0mlib\u001b[0m\u001b[0;34m.\u001b[0m\u001b[0mmap_infer\u001b[0m\u001b[0;34m(\u001b[0m\u001b[0mvalues\u001b[0m\u001b[0;34m,\u001b[0m \u001b[0mmapper\u001b[0m\u001b[0;34m,\u001b[0m \u001b[0mconvert\u001b[0m\u001b[0;34m=\u001b[0m\u001b[0mconvert\u001b[0m\u001b[0;34m)\u001b[0m\u001b[0;34m\u001b[0m\u001b[0;34m\u001b[0m\u001b[0m\n\u001b[0m\u001b[1;32m   1744\u001b[0m     \u001b[0;32melse\u001b[0m\u001b[0;34m:\u001b[0m\u001b[0;34m\u001b[0m\u001b[0;34m\u001b[0m\u001b[0m\n\u001b[1;32m   1745\u001b[0m         return lib.map_infer_mask(\n",
            "\u001b[0;32mlib.pyx\u001b[0m in \u001b[0;36mpandas._libs.lib.map_infer\u001b[0;34m()\u001b[0m\n",
            "\u001b[0;32m<ipython-input-120-65131084baf5>\u001b[0m in \u001b[0;36m<lambda>\u001b[0;34m(x)\u001b[0m\n\u001b[1;32m      2\u001b[0m \u001b[0;34m\u001b[0m\u001b[0m\n\u001b[1;32m      3\u001b[0m     \u001b[0;31m#lista = df_uni[\"SIGLA\"].apply(lambda x: True if (x + ' ' in nome_instituicao) or (' ' + x in nome_instituicao) or (' ' + x + ' ' in nome_instituicao) else False)\u001b[0m\u001b[0;34m\u001b[0m\u001b[0;34m\u001b[0m\u001b[0m\n\u001b[0;32m----> 4\u001b[0;31m     \u001b[0mlista\u001b[0m \u001b[0;34m=\u001b[0m \u001b[0mdf_uni_sigla\u001b[0m\u001b[0;34m[\u001b[0m\u001b[0;34m\"SIGLA\"\u001b[0m\u001b[0;34m]\u001b[0m\u001b[0;34m.\u001b[0m\u001b[0mapply\u001b[0m\u001b[0;34m(\u001b[0m\u001b[0;32mlambda\u001b[0m \u001b[0mx\u001b[0m\u001b[0;34m:\u001b[0m \u001b[0mbool\u001b[0m\u001b[0;34m(\u001b[0m\u001b[0mre\u001b[0m\u001b[0;34m.\u001b[0m\u001b[0msearch\u001b[0m\u001b[0;34m(\u001b[0m\u001b[0;34mrf'\\b{x}\\b'\u001b[0m\u001b[0;34m,\u001b[0m \u001b[0mnome_instituicao\u001b[0m\u001b[0;34m)\u001b[0m\u001b[0;34m)\u001b[0m\u001b[0;34m)\u001b[0m\u001b[0;34m\u001b[0m\u001b[0;34m\u001b[0m\u001b[0m\n\u001b[0m\u001b[1;32m      5\u001b[0m     \u001b[0msiglas_encontradas\u001b[0m \u001b[0;34m=\u001b[0m \u001b[0mdf_uni_sigla\u001b[0m\u001b[0;34m[\u001b[0m\u001b[0mlista\u001b[0m\u001b[0;34m]\u001b[0m\u001b[0;34m\u001b[0m\u001b[0;34m\u001b[0m\u001b[0m\n\u001b[1;32m      6\u001b[0m     \u001b[0mprint\u001b[0m\u001b[0;34m(\u001b[0m\u001b[0msiglas_encontradas\u001b[0m\u001b[0;34m)\u001b[0m\u001b[0;34m\u001b[0m\u001b[0;34m\u001b[0m\u001b[0m\n",
            "\u001b[0;32m/usr/lib/python3.10/re.py\u001b[0m in \u001b[0;36msearch\u001b[0;34m(pattern, string, flags)\u001b[0m\n\u001b[1;32m    198\u001b[0m     \"\"\"Scan through string looking for a match to the pattern, returning\n\u001b[1;32m    199\u001b[0m     a Match object, or None if no match was found.\"\"\"\n\u001b[0;32m--> 200\u001b[0;31m     \u001b[0;32mreturn\u001b[0m \u001b[0m_compile\u001b[0m\u001b[0;34m(\u001b[0m\u001b[0mpattern\u001b[0m\u001b[0;34m,\u001b[0m \u001b[0mflags\u001b[0m\u001b[0;34m)\u001b[0m\u001b[0;34m.\u001b[0m\u001b[0msearch\u001b[0m\u001b[0;34m(\u001b[0m\u001b[0mstring\u001b[0m\u001b[0;34m)\u001b[0m\u001b[0;34m\u001b[0m\u001b[0;34m\u001b[0m\u001b[0m\n\u001b[0m\u001b[1;32m    201\u001b[0m \u001b[0;34m\u001b[0m\u001b[0m\n\u001b[1;32m    202\u001b[0m \u001b[0;32mdef\u001b[0m \u001b[0msub\u001b[0m\u001b[0;34m(\u001b[0m\u001b[0mpattern\u001b[0m\u001b[0;34m,\u001b[0m \u001b[0mrepl\u001b[0m\u001b[0;34m,\u001b[0m \u001b[0mstring\u001b[0m\u001b[0;34m,\u001b[0m \u001b[0mcount\u001b[0m\u001b[0;34m=\u001b[0m\u001b[0;36m0\u001b[0m\u001b[0;34m,\u001b[0m \u001b[0mflags\u001b[0m\u001b[0;34m=\u001b[0m\u001b[0;36m0\u001b[0m\u001b[0;34m)\u001b[0m\u001b[0;34m:\u001b[0m\u001b[0;34m\u001b[0m\u001b[0;34m\u001b[0m\u001b[0m\n",
            "\u001b[0;32m/usr/lib/python3.10/re.py\u001b[0m in \u001b[0;36m_compile\u001b[0;34m(pattern, flags)\u001b[0m\n\u001b[1;32m    302\u001b[0m         \u001b[0;32mraise\u001b[0m \u001b[0mTypeError\u001b[0m\u001b[0;34m(\u001b[0m\u001b[0;34m\"first argument must be string or compiled pattern\"\u001b[0m\u001b[0;34m)\u001b[0m\u001b[0;34m\u001b[0m\u001b[0;34m\u001b[0m\u001b[0m\n\u001b[1;32m    303\u001b[0m     \u001b[0mp\u001b[0m \u001b[0;34m=\u001b[0m \u001b[0msre_compile\u001b[0m\u001b[0;34m.\u001b[0m\u001b[0mcompile\u001b[0m\u001b[0;34m(\u001b[0m\u001b[0mpattern\u001b[0m\u001b[0;34m,\u001b[0m \u001b[0mflags\u001b[0m\u001b[0;34m)\u001b[0m\u001b[0;34m\u001b[0m\u001b[0;34m\u001b[0m\u001b[0m\n\u001b[0;32m--> 304\u001b[0;31m     \u001b[0;32mif\u001b[0m \u001b[0;32mnot\u001b[0m \u001b[0;34m(\u001b[0m\u001b[0mflags\u001b[0m \u001b[0;34m&\u001b[0m \u001b[0mDEBUG\u001b[0m\u001b[0;34m)\u001b[0m\u001b[0;34m:\u001b[0m\u001b[0;34m\u001b[0m\u001b[0;34m\u001b[0m\u001b[0m\n\u001b[0m\u001b[1;32m    305\u001b[0m         \u001b[0;32mif\u001b[0m \u001b[0mlen\u001b[0m\u001b[0;34m(\u001b[0m\u001b[0m_cache\u001b[0m\u001b[0;34m)\u001b[0m \u001b[0;34m>=\u001b[0m \u001b[0m_MAXCACHE\u001b[0m\u001b[0;34m:\u001b[0m\u001b[0;34m\u001b[0m\u001b[0;34m\u001b[0m\u001b[0m\n\u001b[1;32m    306\u001b[0m             \u001b[0;31m# Drop the oldest item\u001b[0m\u001b[0;34m\u001b[0m\u001b[0;34m\u001b[0m\u001b[0m\n",
            "\u001b[0;32m/usr/lib/python3.10/enum.py\u001b[0m in \u001b[0;36m__and__\u001b[0;34m(self, other)\u001b[0m\n\u001b[1;32m    985\u001b[0m \u001b[0;34m\u001b[0m\u001b[0m\n\u001b[1;32m    986\u001b[0m     \u001b[0;32mdef\u001b[0m \u001b[0m__and__\u001b[0m\u001b[0;34m(\u001b[0m\u001b[0mself\u001b[0m\u001b[0;34m,\u001b[0m \u001b[0mother\u001b[0m\u001b[0;34m)\u001b[0m\u001b[0;34m:\u001b[0m\u001b[0;34m\u001b[0m\u001b[0;34m\u001b[0m\u001b[0m\n\u001b[0;32m--> 987\u001b[0;31m         \u001b[0;32mif\u001b[0m \u001b[0;32mnot\u001b[0m \u001b[0misinstance\u001b[0m\u001b[0;34m(\u001b[0m\u001b[0mother\u001b[0m\u001b[0;34m,\u001b[0m \u001b[0;34m(\u001b[0m\u001b[0mself\u001b[0m\u001b[0;34m.\u001b[0m\u001b[0m__class__\u001b[0m\u001b[0;34m,\u001b[0m \u001b[0mint\u001b[0m\u001b[0;34m)\u001b[0m\u001b[0;34m)\u001b[0m\u001b[0;34m:\u001b[0m\u001b[0;34m\u001b[0m\u001b[0;34m\u001b[0m\u001b[0m\n\u001b[0m\u001b[1;32m    988\u001b[0m             \u001b[0;32mreturn\u001b[0m \u001b[0mNotImplemented\u001b[0m\u001b[0;34m\u001b[0m\u001b[0;34m\u001b[0m\u001b[0m\n\u001b[1;32m    989\u001b[0m         \u001b[0;32mreturn\u001b[0m \u001b[0mself\u001b[0m\u001b[0;34m.\u001b[0m\u001b[0m__class__\u001b[0m\u001b[0;34m(\u001b[0m\u001b[0mself\u001b[0m\u001b[0;34m.\u001b[0m\u001b[0m_value_\u001b[0m \u001b[0;34m&\u001b[0m \u001b[0mself\u001b[0m\u001b[0;34m.\u001b[0m\u001b[0m__class__\u001b[0m\u001b[0;34m(\u001b[0m\u001b[0mother\u001b[0m\u001b[0;34m)\u001b[0m\u001b[0;34m.\u001b[0m\u001b[0m_value_\u001b[0m\u001b[0;34m)\u001b[0m\u001b[0;34m\u001b[0m\u001b[0;34m\u001b[0m\u001b[0m\n",
            "\u001b[0;31mKeyboardInterrupt\u001b[0m: "
          ]
        }
      ]
    },
    {
      "cell_type": "code",
      "source": [
        "df_doutores['UltimaFiliacaoEmIES']"
      ],
      "metadata": {
        "id": "_q6lxz2uymjG"
      },
      "execution_count": null,
      "outputs": []
    },
    {
      "cell_type": "markdown",
      "source": [
        "## HistoricoFiliacoesEmIESInternacional"
      ],
      "metadata": {
        "id": "yQyIInfKoP8E"
      }
    },
    {
      "cell_type": "code",
      "source": [
        "def metodo1(nomes_instituicoes):\n",
        "\n",
        "    paises_detectados = []\n",
        "    tem_historico = 0\n",
        "\n",
        "    if nomes_instituicoes:\n",
        "\n",
        "        nomes_instituicoes_split = str(nomes_instituicoes).split(';')\n",
        "\n",
        "        for nome_instituicao in nomes_instituicoes_split:\n",
        "\n",
        "            nome_instituicao = nome_instituicao.strip()\n",
        "\n",
        "            #print(nome_instituicao)\n",
        "\n",
        "            # Ver se contém a sigla\n",
        "            sigla_detectado, pais = iterate_sigla(nome_instituicao)\n",
        "            if pais:\n",
        "                paises_detectados.append(pais)\n",
        "                if pais != 'BR':\n",
        "                    tem_historico = 1\n",
        "\n",
        "            # Se nao contem a sigla, procurar por nome completo br\n",
        "            else:\n",
        "                vector_comparacao = vectorizer_b.transform([nome_instituicao])\n",
        "\n",
        "                uni_list_df, tfidf_matrix_df = get_uni_list_df(nome_instituicao)\n",
        "\n",
        "                similaridade = cosine_similarity(vector_comparacao, tfidf_matrix_df)\n",
        "\n",
        "                max_value = np.max(similaridade)\n",
        "\n",
        "                if (max_value >= threshold):\n",
        "                    paises_detectados.append('BR')\n",
        "\n",
        "                # se nao achou nenhuma ies br, procurar uma ies estrangeira\n",
        "                else:\n",
        "                    vector_comparacao = vectorizer_w.transform([nome_instituicao])\n",
        "                    uni_list_df, tfidf_matrix_df = df_uni_world, tfidf_matrix_world\n",
        "                    similaridade = cosine_similarity(vector_comparacao, tfidf_matrix_df)\n",
        "\n",
        "                    max_value = np.max(similaridade)\n",
        "\n",
        "                    if (max_value >= threshold):\n",
        "                        paises_detectados.append(pais)\n",
        "                        tem_historico = 1\n",
        "\n",
        "\n",
        "                    # nao eh ies\n",
        "\n",
        "        print(\"==================\")\n",
        "    return tem_historico, ';'.join(paises_detectados)\n",
        "\n",
        "df_doutores['ListaHistoricoFiliacoesEmIESInternacional'] = ''\n",
        "df_doutores['HistoricoFiliacoesEmIESInternacional'], df_doutores['ListaHistoricoFiliacoesEmIESInternacional'] = df_doutores[\"ListaFiliacoes\"].apply(lambda x: metodo1(x))"
      ],
      "metadata": {
        "id": "UxCAXynIoLj_",
        "colab": {
          "base_uri": "https://localhost:8080/"
        },
        "outputId": "6a09c043-c224-42fd-ee9c-de9a12cdeed8"
      },
      "execution_count": 150,
      "outputs": [
        {
          "output_type": "stream",
          "name": "stdout",
          "text": [
            "==================\n",
            "==================\n"
          ]
        }
      ]
    },
    {
      "cell_type": "code",
      "source": [],
      "metadata": {
        "id": "dOBcI5ULt3xO"
      },
      "execution_count": null,
      "outputs": []
    },
    {
      "cell_type": "code",
      "source": [
        "df_doutores['ListaHistoricoFiliacoesEmIESInternacional']"
      ],
      "metadata": {
        "id": "pgmFRM6zq5Ht"
      },
      "execution_count": null,
      "outputs": []
    },
    {
      "cell_type": "markdown",
      "source": [
        "# Export\n"
      ],
      "metadata": {
        "id": "J4smhq2B4_yK"
      }
    },
    {
      "cell_type": "code",
      "source": [
        "df['PrimeiraArea'] = df['GrandesAreas'].str.split(';').str[0]\n",
        "df['PrimeiraArea']\n",
        "\n",
        "# Create a mapping dictionary\n",
        "unique_areas = df['PrimeiraArea'].unique()\n",
        "area_to_numeric = {area: idx for idx, area in enumerate(unique_areas)}\n",
        "\n",
        "# Map the areas to numeric values\n",
        "df['PrimeiraAreaNumeric'] = df['PrimeiraArea'].map(area_to_numeric)\n",
        "\n",
        "print(area_to_numeric)"
      ],
      "metadata": {
        "id": "nbUeIw_gPLou"
      },
      "execution_count": null,
      "outputs": []
    },
    {
      "cell_type": "code",
      "source": [
        "df_doutores['ExclusividadeDoutorado'] = df_doutores['ExclusividadeDoutorado'].astype(float).astype(int)\n",
        "df_doutores['Genero'] = df_doutores['Genero'].astype(float).astype(int)\n",
        "\n",
        "df_doutores = df_doutores.astype({\n",
        "    'IDLattes': int,\n",
        "    'DuracaoDoutorado': float,\n",
        "    'Genero': int,\n",
        "    'GrandesAreas': str,\n",
        "    'ExclusividadeDoutorado': int,\n",
        "    'Publicacoes': float,\n",
        "    'IdadeAcademica': str,\n",
        "    'HistoricoFiliacoesEmIESInternacional': str,\n",
        "    'UltimaFiliacaoEmIES': int,\n",
        "    'ListaHistoricoFiliacoesEmIESInternacional': str\n",
        "})\n",
        "\n",
        "#    'ListaFiliacoes': str,\n",
        "#    'UltimaFiliacao': str,\n",
        "\n",
        "df_doutores.to_csv('doutores_processado_2000_zhong.csv')"
      ],
      "metadata": {
        "id": "c4Hatxih5CNb"
      },
      "execution_count": null,
      "outputs": []
    },
    {
      "cell_type": "code",
      "source": [
        "df_doutores['ExclusividadeDoutorado'].isna().count()"
      ],
      "metadata": {
        "id": "MOb8pS5ApMsZ"
      },
      "execution_count": null,
      "outputs": []
    },
    {
      "cell_type": "markdown",
      "source": [
        "# Analise"
      ],
      "metadata": {
        "id": "B4UkQtzMCf9m"
      }
    },
    {
      "cell_type": "code",
      "source": [
        "# df_doutores_processado = pd.read_csv('doutores_processado.csv', encoding='UTF-8')"
      ],
      "metadata": {
        "id": "2oHgs3TFXOMX"
      },
      "execution_count": null,
      "outputs": []
    },
    {
      "cell_type": "markdown",
      "source": [
        "## Corr"
      ],
      "metadata": {
        "id": "MYoYC5WJJ8a5"
      }
    },
    {
      "cell_type": "code",
      "source": [
        "import matplotlib.pyplot as plt\n",
        "\n",
        "df_doutores_filtered = df_doutores[['DuracaoDoutorado', 'Publicacoes', 'IdadeAcademica', 'HistoricoFiliacoesEmIESInternacional', 'UltimaFiliacaoEmIES']]\n",
        "\n",
        "rs = np.random.RandomState(0)\n",
        "df = pd.DataFrame(rs.rand(10, 10))\n",
        "corr = df_doutores_filtered.corr()\n",
        "corr.style.background_gradient(cmap='coolwarm')"
      ],
      "metadata": {
        "id": "DBapAssOCiYy"
      },
      "execution_count": null,
      "outputs": []
    },
    {
      "cell_type": "markdown",
      "source": [
        "## Gower + Kmedoids"
      ],
      "metadata": {
        "id": "ZggpFq-oJ7Au"
      }
    },
    {
      "cell_type": "code",
      "source": [
        "import gower\n",
        "import pandas as pd\n",
        "from sklearn_extra.cluster import KMedoids\n",
        "from matplotlib import pyplot as plt\n",
        "from sklearn.decomposition import PCA\n",
        "\n",
        "# Gower distance\n",
        "gower_dist = gower.gower_matrix(df_doutores_filtered)\n",
        "\n",
        "# K-Medoids\n",
        "kmedoids = KMedoids(n_clusters=3, metric='precomputed', method='pam', random_state=0)\n",
        "kmedoids.fit(gower_dist)\n",
        "labels = kmedoids.labels_\n",
        "\n",
        "# Plot\n",
        "pca = PCA(n_components=2)\n",
        "doutores_pca = pca.fit_transform(gower_dist)\n",
        "\n",
        "plt.figure(figsize=(8, 6))\n",
        "scatter = plt.scatter(doutores_pca[:, 0], doutores_pca[:, 1], c=labels, cmap='viridis', s=50)\n",
        "plt.title(\"Cluster Plot\")\n",
        "plt.xlabel(\"PCA Component 1\")\n",
        "plt.ylabel(\"PCA Component 2\")\n",
        "plt.colorbar(scatter, label='Cluster Label')\n",
        "plt.show()"
      ],
      "metadata": {
        "id": "WoxfQdiJX_Lu"
      },
      "execution_count": null,
      "outputs": []
    },
    {
      "cell_type": "markdown",
      "source": [
        "## Logit"
      ],
      "metadata": {
        "id": "AtUZmi8tYzkd"
      }
    },
    {
      "cell_type": "code",
      "source": [
        "import pandas as pd\n",
        "from pandas import DataFrame\n",
        "from sklearn.model_selection import train_test_split\n",
        "from sklearn.linear_model import LogisticRegression\n",
        "from sklearn.metrics import precision_recall_fscore_support\n",
        "\n",
        "def regressao_logistica(X, y):\n",
        "\n",
        "    X_train, X_test, y_train, y_test = train_test_split(X, y, test_size=0.4, random_state=42)\n",
        "\n",
        "    model = LogisticRegression(max_iter=1000)\n",
        "    model.fit(X_train, y_train.values.ravel())\n",
        "\n",
        "    y_pred = model.predict(X_test)\n",
        "\n",
        "    # resultado\n",
        "    p,r,f,_none = precision_recall_fscore_support(y_test, y_pred, average='micro')\n",
        "    print('P =',\"{:2.2f}\".format(p).replace(\".\",\",\"),end='')\n",
        "    print('  R =',\"{:2.2f}\".format(r).replace(\".\",\",\"),end='')\n",
        "    print('  F =',\"{:2.2f}\".format(f).replace(\".\",\",\"))"
      ],
      "metadata": {
        "id": "mKgcQWXgYy_p"
      },
      "execution_count": null,
      "outputs": []
    },
    {
      "cell_type": "code",
      "source": [
        "# DuracaoDoutorado\n",
        "\n",
        "regressao_logistica(df_doutores_filtered[['IdadeAcademica', 'Publicacoes', 'HistoricoFiliacoesEmIESInternacional', 'UltimaFiliacaoEmIES']],\n",
        "                    df_doutores_filtered[['DuracaoDoutorado']])"
      ],
      "metadata": {
        "id": "DPcyUB8SaJ-l"
      },
      "execution_count": null,
      "outputs": []
    },
    {
      "cell_type": "code",
      "source": [
        "# IdadeAcademica\n",
        "\n",
        "regressao_logistica(df_doutores_filtered[['DuracaoDoutorado', 'Publicacoes', 'HistoricoFiliacoesEmIESInternacional', 'UltimaFiliacaoEmIES']],\n",
        "                    df_doutores_filtered[['IdadeAcademica']])"
      ],
      "metadata": {
        "id": "SL4_VW1Bt5b-"
      },
      "execution_count": null,
      "outputs": []
    },
    {
      "cell_type": "code",
      "source": [
        "# Publicacoes\n",
        "\n",
        "regressao_logistica(df_doutores_filtered[['DuracaoDoutorado', 'IdadeAcademica', 'HistoricoFiliacoesEmIESInternacional', 'UltimaFiliacaoEmIES']],\n",
        "                    df_doutores_filtered[['Publicacoes']])"
      ],
      "metadata": {
        "id": "bFwu22Pgt5eI"
      },
      "execution_count": null,
      "outputs": []
    }
  ]
}